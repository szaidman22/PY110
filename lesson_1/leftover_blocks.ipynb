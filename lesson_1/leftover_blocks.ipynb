{
 "cells": [
  {
   "cell_type": "markdown",
   "metadata": {},
   "source": [
    "Leftover Blocks\n",
    "You have a number of building blocks that can be used to build a valid structure. There are certain rules about what determines a valid structure:\n",
    "\n",
    "- The building blocks are cubes.\n",
    "- The structure is built in layers.\n",
    "- The top layer is a single block.\n",
    "- A block in an upper layer must be supported by four blocks in a lower layer.\n",
    "- A block in a lower layer can support more than one block in an upper layer.\n",
    "- You cannot leave gaps between blocks.\n",
    "\n",
    "**Write a program that, given the number of available blocks, calculates the number of blocks left over after building the tallest possible valid structure.**\n",
    "\n",
    "Tasks\n",
    "You are provided with the problem description above. Your tasks for this step are:\n",
    "\n",
    "Make notes of your mental model for the problem, including:\n",
    "inputs and outputs.\n",
    "explicit and implicit rules.\n",
    "Write a list of clarifying questions for anything that isn't clear.\n"
   ]
  },
  {
   "cell_type": "markdown",
   "metadata": {},
   "source": [
    "### Understand the problem:\n",
    "\n",
    "Input: number of available blocks\n",
    "Output: number of blocks left over after building the tallest possible valid structure\n",
    "\n",
    "Explicit Rules:\n",
    "- blocks are cubes i.e. they have 6 faces of equal area\n",
    "- structure is built in layers\n",
    "- the highest layer is one block\n",
    "- a block in an upper layer must be supported by four blocks in a lower layer\n",
    "- a block in a lower layer can support more than one block in an upper layer\n",
    "- no gaps between blocks (all blocks must touch another block)\n",
    "\n",
    "Implicit Rules:\n",
    "- the smallest structure is one block (?) with next smallest being 5 blocks\n",
    "- all blocks are the same size (?)\n",
    "- each layer to build the tallest possible structure will contain a square number of blocks equal to the number of that layer\n",
    "- (1, 4, 9, 16 etc.)\n",
    "\n",
    "Questions:\n",
    "- is a one-block structure allowed?\n"
   ]
  },
  {
   "cell_type": "code",
   "execution_count": null,
   "metadata": {},
   "outputs": [],
   "source": [
    "# Test cases\n",
    "\n",
    "print(calculate_leftover_blocks(0) == 0)  # True\n",
    "print(calculate_leftover_blocks(1) == 0)  # True\n",
    "print(calculate_leftover_blocks(2) == 1)  # True\n",
    "print(calculate_leftover_blocks(4) == 3)  # True\n",
    "print(calculate_leftover_blocks(5) == 0)  # True\n",
    "print(calculate_leftover_blocks(6) == 1)  # True\n",
    "print(calculate_leftover_blocks(14) == 0) # True"
   ]
  },
  {
   "cell_type": "markdown",
   "metadata": {},
   "source": [
    "- looks like one block can be a tower\n",
    "- looks like if a layer is not a perfect square, we have leftover blocks"
   ]
  },
  {
   "cell_type": "markdown",
   "metadata": {},
   "source": [
    "### Data Structures / algorithm:\n",
    "\n",
    "Input is an integer (number of blocks)\n",
    "\n",
    "1. save input\n",
    "2. Given input, loop through list of square numbers in ascending order\n",
    "    - subtract the square number from the input number (save as result)\n",
    "    - if 0, remainder is 0, exit loop\n",
    "    - if > 0, continue loop\n",
    "    - if negative, the remainder will be the previously saved result\n",
    "    - examples:\n",
    "        - 1: 1 - 1 = **0**, remainder is **0**\n",
    "        - 4: 4 - 1 = **3**, continue, **3** - 4 = -1, reaminder is **3**\n",
    "        - 6: 6 - 1 = **5**, continue, **5** - 4 = **1**, continue, **1** - 9 = -8, remainder is **1**\n",
    "    - return the result\n",
    "\n"
   ]
  },
  {
   "cell_type": "code",
   "execution_count": 24,
   "metadata": {},
   "outputs": [
    {
     "name": "stdout",
     "output_type": "stream",
     "text": [
      "Leftover blocks: 0\n",
      "Layers built: 1\n",
      "True\n",
      "Leftover blocks: 0\n",
      "Layers built: 2\n",
      "True\n",
      "Leftover blocks: 1\n",
      "Layers built: 2\n",
      "True\n",
      "Leftover blocks: 3\n",
      "Layers built: 2\n",
      "True\n",
      "Leftover blocks: 0\n",
      "Layers built: 3\n",
      "True\n",
      "Leftover blocks: 1\n",
      "Layers built: 3\n",
      "True\n",
      "Leftover blocks: 0\n",
      "Layers built: 4\n",
      "True\n"
     ]
    }
   ],
   "source": [
    "def calculate_leftover_blocks(block_number):\n",
    "    leftover = block_number\n",
    "\n",
    "    def get_blocks():\n",
    "        return layer * layer\n",
    "\n",
    "    layer = 1\n",
    "\n",
    "    while leftover >= get_blocks():\n",
    "        leftover -= get_blocks() \n",
    "        layer += 1\n",
    "    \n",
    "    print(f\"Leftover blocks: {leftover}\\n\"\n",
    "          f\"Layers built: {layer}\")\n",
    "    return(leftover)\n",
    "\n",
    "\n",
    "print(calculate_leftover_blocks(0) == 0)  # True\n",
    "print(calculate_leftover_blocks(1) == 0)  # True\n",
    "print(calculate_leftover_blocks(2) == 1)  # True\n",
    "print(calculate_leftover_blocks(4) == 3)  # True\n",
    "print(calculate_leftover_blocks(5) == 0)  # True\n",
    "print(calculate_leftover_blocks(6) == 1)  # True\n",
    "print(calculate_leftover_blocks(14) == 0) # True"
   ]
  },
  {
   "cell_type": "code",
   "execution_count": 26,
   "metadata": {},
   "outputs": [
    {
     "name": "stdout",
     "output_type": "stream",
     "text": [
      "Leftover blocks: 12\n",
      "Layers built: 6\n"
     ]
    },
    {
     "data": {
      "text/plain": [
       "12"
      ]
     },
     "execution_count": 26,
     "metadata": {},
     "output_type": "execute_result"
    }
   ],
   "source": [
    "calculate_leftover_blocks(67)"
   ]
  }
 ],
 "metadata": {
  "kernelspec": {
   "display_name": "Python 3",
   "language": "python",
   "name": "python3"
  },
  "language_info": {
   "codemirror_mode": {
    "name": "ipython",
    "version": 3
   },
   "file_extension": ".py",
   "mimetype": "text/x-python",
   "name": "python",
   "nbconvert_exporter": "python",
   "pygments_lexer": "ipython3",
   "version": "3.12.5"
  }
 },
 "nbformat": 4,
 "nbformat_minor": 2
}
