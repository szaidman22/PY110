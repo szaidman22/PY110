{
 "cells": [
  {
   "cell_type": "code",
   "execution_count": 1,
   "metadata": {},
   "outputs": [
    {
     "data": {
      "text/plain": [
       "2"
      ]
     },
     "execution_count": 1,
     "metadata": {},
     "output_type": "execute_result"
    }
   ],
   "source": [
    "#How would you count the number of occurrences of \"banana\" in the tuple?\n",
    "\n",
    "fruits = (\"apple\", \"banana\", \"cherry\", \"date\", \"banana\")\n",
    "\n",
    "fruits.count(\"banana\")"
   ]
  },
  {
   "cell_type": "code",
   "execution_count": 2,
   "metadata": {},
   "outputs": [
    {
     "name": "stdout",
     "output_type": "stream",
     "text": [
      "5\n"
     ]
    }
   ],
   "source": [
    "numbers = {1, 2, 3, 4, 5, 5, 4, 3}\n",
    "print(len(numbers))\n",
    "\n",
    "#What is the set's length? Try to answer without running the code.\n",
    "\n",
    "# 1, 2, 3, 4, 5 length is 5"
   ]
  },
  {
   "cell_type": "code",
   "execution_count": 5,
   "metadata": {},
   "outputs": [
    {
     "data": {
      "text/plain": [
       "{1, 2, 3, 4, 5, 6}"
      ]
     },
     "execution_count": 5,
     "metadata": {},
     "output_type": "execute_result"
    }
   ],
   "source": [
    "a = {1, 2, 3, 4}\n",
    "b = {3, 4, 5, 6}\n",
    "\n",
    "#How would you obtain a set that contains all the unique values from both sets?\n",
    "# a union b\n",
    "\n",
    "a | b"
   ]
  },
  {
   "cell_type": "code",
   "execution_count": 6,
   "metadata": {},
   "outputs": [
    {
     "name": "stdout",
     "output_type": "stream",
     "text": [
      "{'Fred': 0, 'Barney': 1, 'Wilma': 2, 'Betty': 3, 'Pebbles': 4, 'Bambam': 5}\n"
     ]
    }
   ],
   "source": [
    "#Given the following code, what would the output be? Try to answer without running the code.\n",
    "\n",
    "names = [\"Fred\", \"Barney\", \"Wilma\", \"Betty\", \"Pebbles\", \"Bambam\"]\n",
    "\n",
    "name_positions = {}\n",
    "\n",
    "for index, name in enumerate(names):\n",
    "    name_positions[name] = index\n",
    "    \n",
    "print(name_positions)"
   ]
  },
  {
   "cell_type": "code",
   "execution_count": 8,
   "metadata": {},
   "outputs": [
    {
     "data": {
      "text/plain": [
       "6174"
      ]
     },
     "execution_count": 8,
     "metadata": {},
     "output_type": "execute_result"
    }
   ],
   "source": [
    "#Calculate the total age given the following dictionary:\n",
    "\n",
    "ages = {\n",
    "    \"Herman\": 32,\n",
    "    \"Lily\": 30,\n",
    "    \"Grandpa\": 5843,\n",
    "    \"Eddie\": 10,\n",
    "    \"Marilyn\": 22,\n",
    "    \"Spot\": 237,\n",
    "}\n",
    "\n",
    "total_age = sum(ages.values())\n",
    "\n",
    "total_age"
   ]
  },
  {
   "cell_type": "code",
   "execution_count": 9,
   "metadata": {},
   "outputs": [
    {
     "data": {
      "text/plain": [
       "10"
      ]
     },
     "execution_count": 9,
     "metadata": {},
     "output_type": "execute_result"
    }
   ],
   "source": [
    "#Determine the minimum age from the above ages dictionary.\n",
    "\n",
    "min_age = min(ages.values())\n",
    "\n",
    "min_age"
   ]
  },
  {
   "cell_type": "code",
   "execution_count": 10,
   "metadata": {},
   "outputs": [
    {
     "name": "stdout",
     "output_type": "stream",
     "text": [
      "['bear']\n"
     ]
    }
   ],
   "source": [
    "# What would the following code output? Try to answer without running the code.\n",
    "\n",
    "words = ['ant', 'bear', 'cat']\n",
    "selected_words = []\n",
    "for word in words:\n",
    "    if len(word) > 3:\n",
    "        selected_words.append(word)\n",
    "\n",
    "print(selected_words)"
   ]
  },
  {
   "cell_type": "code",
   "execution_count": 16,
   "metadata": {},
   "outputs": [
    {
     "data": {
      "text/plain": [
       "{'T': 1,\n",
       " 'c': 1,\n",
       " 'n': 2,\n",
       " 'k': 1,\n",
       " 's': 2,\n",
       " 'o': 2,\n",
       " 'i': 1,\n",
       " 'h': 1,\n",
       " 'l': 1,\n",
       " 'F': 1,\n",
       " 't': 2,\n",
       " 'R': 1,\n",
       " 'e': 2}"
      ]
     },
     "execution_count": 16,
     "metadata": {},
     "output_type": "execute_result"
    }
   ],
   "source": [
    "# Given the following string, create a dictionary that represents the \n",
    "# frequency with which each letter occurs. The frequency count should be case-sensitive:\n",
    "\n",
    "statement = \"The Flintstones Rock\"\n",
    "\n",
    "letters = set(statement)\n",
    "\n",
    "letters.discard(' ')\n",
    "\n",
    "letter_counts = {}\n",
    "\n",
    "for letter in letters:\n",
    "    letter_counts[letter] = statement.count(letter)\n",
    "\n",
    "letter_counts"
   ]
  },
  {
   "cell_type": "code",
   "execution_count": 17,
   "metadata": {},
   "outputs": [
    {
     "data": {
      "text/plain": [
       "[2, 3]"
      ]
     },
     "execution_count": 17,
     "metadata": {},
     "output_type": "execute_result"
    }
   ],
   "source": [
    "# What is the return value of the list comprehension below? Try to answer without running the code.\n",
    "\n",
    "[num for num in [1, 2, 3] if num > 1]\n",
    "\n",
    "#[2,3]"
   ]
  },
  {
   "cell_type": "code",
   "execution_count": 18,
   "metadata": {},
   "outputs": [
    {
     "name": "stdout",
     "output_type": "stream",
     "text": [
      "('b', 'bear')\n"
     ]
    }
   ],
   "source": [
    "# What does the following code print and why?\n",
    "\n",
    "dictionary = {'a': 'ant', 'b': 'bear'}\n",
    "print(dictionary.popitem())\n",
    "\n",
    "# ('b': 'bear') will be printed because popitem() will remove the last added key/value pair and return it AS A TUPLE?"
   ]
  },
  {
   "cell_type": "code",
   "execution_count": 19,
   "metadata": {},
   "outputs": [
    {
     "data": {
      "text/plain": [
       "[1, 2]"
      ]
     },
     "execution_count": 19,
     "metadata": {},
     "output_type": "execute_result"
    }
   ],
   "source": [
    "#What does the following code return? Try to answer without running the code.\n",
    "\n",
    "lst = [1, 2, 3, 4, 5]\n",
    "lst[:2]\n",
    "\n",
    "# [1, 2]"
   ]
  },
  {
   "cell_type": "code",
   "execution_count": 20,
   "metadata": {},
   "outputs": [
    {
     "ename": "AttributeError",
     "evalue": "'frozenset' object has no attribute 'add'",
     "output_type": "error",
     "traceback": [
      "\u001b[0;31m---------------------------------------------------------------------------\u001b[0m",
      "\u001b[0;31mAttributeError\u001b[0m                            Traceback (most recent call last)",
      "Cell \u001b[0;32mIn[20], line 4\u001b[0m\n\u001b[1;32m      1\u001b[0m \u001b[38;5;66;03m# What would be the output of the below code? Try to answer without running the code.\u001b[39;00m\n\u001b[1;32m      3\u001b[0m frozen \u001b[38;5;241m=\u001b[39m \u001b[38;5;28mfrozenset\u001b[39m([\u001b[38;5;241m1\u001b[39m, \u001b[38;5;241m2\u001b[39m, \u001b[38;5;241m3\u001b[39m, \u001b[38;5;241m4\u001b[39m, \u001b[38;5;241m5\u001b[39m])\n\u001b[0;32m----> 4\u001b[0m \u001b[43mfrozen\u001b[49m\u001b[38;5;241;43m.\u001b[39;49m\u001b[43madd\u001b[49m(\u001b[38;5;241m6\u001b[39m)\n\u001b[1;32m      5\u001b[0m \u001b[38;5;66;03m#error?\u001b[39;00m\n\u001b[1;32m      6\u001b[0m \u001b[38;5;28mprint\u001b[39m(frozen)\n",
      "\u001b[0;31mAttributeError\u001b[0m: 'frozenset' object has no attribute 'add'"
     ]
    }
   ],
   "source": [
    "# What would be the output of the below code? Try to answer without running the code.\n",
    "\n",
    "frozen = frozenset([1, 2, 3, 4, 5])\n",
    "frozen.add(6)\n",
    "#error?\n",
    "print(frozen)\n",
    "#no change"
   ]
  },
  {
   "cell_type": "code",
   "execution_count": 21,
   "metadata": {},
   "outputs": [
    {
     "data": {
      "text/plain": [
       "['hello', 'my', 'friend']"
      ]
     },
     "execution_count": 21,
     "metadata": {},
     "output_type": "execute_result"
    }
   ],
   "source": [
    "string = 'hello my friend'\n",
    "\n",
    "string.split()"
   ]
  },
  {
   "cell_type": "code",
   "execution_count": 23,
   "metadata": {},
   "outputs": [
    {
     "ename": "ValueError",
     "evalue": "[1, 2] is not in list",
     "output_type": "error",
     "traceback": [
      "\u001b[0;31m---------------------------------------------------------------------------\u001b[0m",
      "\u001b[0;31mValueError\u001b[0m                                Traceback (most recent call last)",
      "Cell \u001b[0;32mIn[23], line 3\u001b[0m\n\u001b[1;32m      1\u001b[0m \u001b[38;5;28mlist\u001b[39m \u001b[38;5;241m=\u001b[39m [\u001b[38;5;241m1\u001b[39m,\u001b[38;5;241m2\u001b[39m,\u001b[38;5;241m3\u001b[39m,\u001b[38;5;241m4\u001b[39m]\n\u001b[0;32m----> 3\u001b[0m \u001b[38;5;28;43mlist\u001b[39;49m\u001b[38;5;241;43m.\u001b[39;49m\u001b[43mindex\u001b[49m\u001b[43m(\u001b[49m\u001b[43m[\u001b[49m\u001b[38;5;241;43m1\u001b[39;49m\u001b[43m,\u001b[49m\u001b[38;5;241;43m2\u001b[39;49m\u001b[43m]\u001b[49m\u001b[43m)\u001b[49m\n",
      "\u001b[0;31mValueError\u001b[0m: [1, 2] is not in list"
     ]
    }
   ],
   "source": [
    "list = [1,2,3,4]\n",
    "\n",
    "list.index([1,2])"
   ]
  },
  {
   "cell_type": "code",
   "execution_count": 24,
   "metadata": {},
   "outputs": [
    {
     "ename": "TypeError",
     "evalue": "unsupported operand type(s) for +: 'set' and 'set'",
     "output_type": "error",
     "traceback": [
      "\u001b[0;31m---------------------------------------------------------------------------\u001b[0m",
      "\u001b[0;31mTypeError\u001b[0m                                 Traceback (most recent call last)",
      "Cell \u001b[0;32mIn[24], line 5\u001b[0m\n\u001b[1;32m      1\u001b[0m set1 \u001b[38;5;241m=\u001b[39m {\u001b[38;5;241m1\u001b[39m,\u001b[38;5;241m3\u001b[39m,\u001b[38;5;241m4\u001b[39m,\u001b[38;5;241m5\u001b[39m,\u001b[38;5;241m6\u001b[39m}\n\u001b[1;32m      3\u001b[0m set2 \u001b[38;5;241m=\u001b[39m {\u001b[38;5;241m9\u001b[39m,\u001b[38;5;241m3\u001b[39m,\u001b[38;5;241m4\u001b[39m,\u001b[38;5;241m6\u001b[39m,\u001b[38;5;241m7\u001b[39m}\n\u001b[0;32m----> 5\u001b[0m \u001b[43mset1\u001b[49m\u001b[43m \u001b[49m\u001b[38;5;241;43m+\u001b[39;49m\u001b[43m \u001b[49m\u001b[43mset2\u001b[49m\n",
      "\u001b[0;31mTypeError\u001b[0m: unsupported operand type(s) for +: 'set' and 'set'"
     ]
    }
   ],
   "source": [
    "set1 = {1,3,4,5,6}\n",
    "\n",
    "set2 = {9,3,4,6,7}\n",
    "\n",
    "set1 + set2"
   ]
  }
 ],
 "metadata": {
  "kernelspec": {
   "display_name": "Python 3",
   "language": "python",
   "name": "python3"
  },
  "language_info": {
   "codemirror_mode": {
    "name": "ipython",
    "version": 3
   },
   "file_extension": ".py",
   "mimetype": "text/x-python",
   "name": "python",
   "nbconvert_exporter": "python",
   "pygments_lexer": "ipython3",
   "version": "3.12.5"
  }
 },
 "nbformat": 4,
 "nbformat_minor": 2
}
