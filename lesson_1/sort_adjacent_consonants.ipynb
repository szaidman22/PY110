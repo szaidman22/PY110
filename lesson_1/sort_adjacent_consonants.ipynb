{
 "cells": [
  {
   "cell_type": "markdown",
   "metadata": {},
   "source": [
    "\n",
    "### Sort Strings by Most Adjacent Consonants\n",
    "\n",
    "Given a list of strings, return a new list where the strings are sorted based on the highest number of adjacent consonants a string contains. If two strings contain the same highest number of adjacent consonants, they should retain their original order in relation to each other. Consonants are considered adjacent if they are next to each other in the same word or if there is a space between two consonants in adjacent words.\n",
    "\n",
    "Tasks\n",
    "You are provided with the problem description above. Your tasks for this step are:\n",
    "\n",
    "- Make notes of your mental model for the problem, including:\n",
    "    - inputs and outputs.\n",
    "    - explicit and implicit rules.\n",
    "- Write a list of clarifying questions for anything that isn't clear."
   ]
  },
  {
   "cell_type": "markdown",
   "metadata": {},
   "source": [
    "### Understand the problem:\n",
    "\n",
    "Inputs:\n",
    "- list of strings\n",
    "\n",
    "Outputs:\n",
    "- list of strings, sorted by highest number of adjacent consonants each string contains\n",
    "\n",
    "Rules:\n",
    "- Explicit:\n",
    "    - ties should retain original list order\n",
    "    - adjacent consonents can be separated by a space or directly next to each other in a word\n",
    "    - don't mutate the original list\n",
    "\n",
    "- Implicit:\n",
    "    - ?\n",
    "\n",
    "Questions:\n",
    "- unicode only?\n",
    "- what are we calling a consonant"
   ]
  },
  {
   "cell_type": "code",
   "execution_count": null,
   "metadata": {},
   "outputs": [],
   "source": [
    "# Test Cases\n",
    "\n",
    "my_list = ['aa', 'baa', 'ccaa', 'dddaa']\n",
    "print(sort_by_consonant_count(my_list))\n",
    "# ['dddaa', 'ccaa', 'aa', 'baa']\n",
    "\n",
    "my_list = ['can can', 'toucan', 'batman', 'salt pan']\n",
    "print(sort_by_consonant_count(my_list))\n",
    "# ['salt pan', 'can can', 'batman', 'toucan']\n",
    "\n",
    "my_list = ['bar', 'car', 'far', 'jar']\n",
    "print(sort_by_consonant_count(my_list))\n",
    "# ['bar', 'car', 'far', 'jar']\n",
    "\n",
    "my_list = ['day', 'week', 'month', 'year']\n",
    "print(sort_by_consonant_count(my_list))\n",
    "# ['month', 'day', 'week', 'year']\n",
    "\n",
    "my_list = ['xxxa', 'xxxx', 'xxxb']\n",
    "print(sort_by_consonant_count(my_list))\n",
    "# ['xxxx', 'xxxb', 'xxxa']"
   ]
  },
  {
   "cell_type": "markdown",
   "metadata": {},
   "source": [
    "### Data structures and algorithm\n",
    "\n",
    "- list as input, new list as output\n",
    "\n",
    "### Algorithm:\n",
    "\n",
    "1. Input list of strings\n",
    "2. Create copy of list to hold sorted strings (new list)\n",
    "3. Initialize consonant count list\n",
    "4. Loop through new list\n",
    "    - need to determine what is/isn't consonant (anything besides aeiou?)\n",
    "    - ignore spaces\n",
    "    - for each string, loop through characters and count uninterrupted consonants, add to count list\n",
    "    - for each member of new list before current member (going backward)\n",
    "        - IF current consonant count higher than previous consonant count, swap index"
   ]
  },
  {
   "cell_type": "code",
   "execution_count": 60,
   "metadata": {},
   "outputs": [],
   "source": [
    "def sort_by_consonant_count(string_list):\n",
    "\n",
    "    VOWELS = ['a','e','i','o','u']        \n",
    "\n",
    "    strings_counts = []\n",
    "\n",
    "    index = 0\n",
    "\n",
    "    for string in string_list:\n",
    "\n",
    "        original_string = string\n",
    "\n",
    "        for vowel in VOWELS:\n",
    "            string = string.replace(vowel,'.')\n",
    "        \n",
    "        string = string.replace(' ','')\n",
    "\n",
    "        count = max([len(consonant_run) for consonant_run in string.split('.')])\n",
    "\n",
    "        if count == 1:\n",
    "            count = 0\n",
    "\n",
    "        strings_counts.append([original_string, count, index])\n",
    "\n",
    "        index += 1\n",
    "\n",
    "    strings_counts.sort(key = lambda x: x[1], reverse = True)\n",
    "\n",
    "    final_list = [string_count[0] for string_count in strings_counts]\n",
    "\n",
    "    return final_list\n",
    "\n"
   ]
  },
  {
   "cell_type": "code",
   "execution_count": 61,
   "metadata": {},
   "outputs": [
    {
     "name": "stdout",
     "output_type": "stream",
     "text": [
      "['dddaa', 'ccaa', 'aa', 'baa']\n",
      "['salt pan', 'can can', 'batman', 'toucan']\n",
      "['bar', 'car', 'far', 'jar']\n",
      "['month', 'day', 'week', 'year']\n",
      "['xxxx', 'xxxb', 'xxxa']\n"
     ]
    }
   ],
   "source": [
    "my_list = ['aa', 'baa', 'ccaa', 'dddaa']\n",
    "print(sort_by_consonant_count(my_list))\n",
    "# ['dddaa', 'ccaa', 'aa', 'baa']\n",
    "\n",
    "my_list = ['can can', 'toucan', 'batman', 'salt pan']\n",
    "print(sort_by_consonant_count(my_list))\n",
    "# ['salt pan', 'can can', 'batman', 'toucan']\n",
    "\n",
    "my_list = ['bar', 'car', 'far', 'jar']\n",
    "print(sort_by_consonant_count(my_list))\n",
    "# ['bar', 'car', 'far', 'jar']\n",
    "\n",
    "my_list = ['day', 'week', 'month', 'year']\n",
    "print(sort_by_consonant_count(my_list))\n",
    "# ['month', 'day', 'week', 'year']\n",
    "\n",
    "my_list = ['xxxa', 'xxxx', 'xxxb']\n",
    "print(sort_by_consonant_count(my_list))\n",
    "# ['xxxx', 'xxxb', 'xxxa']"
   ]
  },
  {
   "cell_type": "code",
   "execution_count": 11,
   "metadata": {},
   "outputs": [
    {
     "name": "stdout",
     "output_type": "stream",
     "text": [
      "h.ll.th.r.myfr..nd\n"
     ]
    },
    {
     "data": {
      "text/plain": [
       "4"
      ]
     },
     "execution_count": 11,
     "metadata": {},
     "output_type": "execute_result"
    }
   ],
   "source": [
    "VOWELS = ['a','e','i','o','u']        \n",
    "\n",
    "\n",
    "string = \"hello there my friend\"\n",
    "\n",
    "for vowel in VOWELS:\n",
    "    string = string.replace(vowel,'.')\n",
    "\n",
    "string = string.replace(' ','')\n",
    "print(string)\n",
    "\n",
    "adjacent_consonants = max([len(string) for string in string.split('.')])\n",
    "adjacent_consonants"
   ]
  },
  {
   "cell_type": "code",
   "execution_count": 13,
   "metadata": {},
   "outputs": [
    {
     "data": {
      "text/plain": [
       "['u', 'o', 'i', 'e', 'a']"
      ]
     },
     "execution_count": 13,
     "metadata": {},
     "output_type": "execute_result"
    }
   ],
   "source": [
    "VOWELS[::-1]"
   ]
  }
 ],
 "metadata": {
  "kernelspec": {
   "display_name": "Python 3",
   "language": "python",
   "name": "python3"
  },
  "language_info": {
   "codemirror_mode": {
    "name": "ipython",
    "version": 3
   },
   "file_extension": ".py",
   "mimetype": "text/x-python",
   "name": "python",
   "nbconvert_exporter": "python",
   "pygments_lexer": "ipython3",
   "version": "3.12.5"
  }
 },
 "nbformat": 4,
 "nbformat_minor": 2
}
