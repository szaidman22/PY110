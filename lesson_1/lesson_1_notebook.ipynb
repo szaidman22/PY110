{
 "cells": [
  {
   "cell_type": "code",
   "execution_count": 1,
   "metadata": {},
   "outputs": [
    {
     "data": {
      "text/plain": [
       "[2, 2, 3, 4]"
      ]
     },
     "execution_count": 1,
     "metadata": {},
     "output_type": "execute_result"
    }
   ],
   "source": [
    "numbers = [1, 2, 3, 4]\n",
    "numbers[0] = numbers[0] + 1\n",
    "numbers"
   ]
  },
  {
   "cell_type": "code",
   "execution_count": 2,
   "metadata": {},
   "outputs": [
    {
     "data": {
      "text/plain": [
       "[2, 3, 4, 5]"
      ]
     },
     "execution_count": 2,
     "metadata": {},
     "output_type": "execute_result"
    }
   ],
   "source": [
    "for x in range(1,4):\n",
    "    numbers[x] += 1\n",
    "numbers"
   ]
  },
  {
   "cell_type": "code",
   "execution_count": 4,
   "metadata": {},
   "outputs": [],
   "source": [
    "dict1 = {\n",
    "     'apple': 'Produce',\n",
    "     'carrot': 'Produce',\n",
    "     'pear': 'Produce',\n",
    "     'broccoli': 'Produce',\n",
    " }\n",
    "\n",
    "dict1['apple'] = 'Fruit'\n",
    "dict1['carrot'] = 'Vegetable'"
   ]
  },
  {
   "cell_type": "code",
   "execution_count": 6,
   "metadata": {},
   "outputs": [],
   "source": [
    "dict1['pear'] = 'Fruit'\n",
    "dict1['broccoli'] = 'Vegetable'"
   ]
  },
  {
   "cell_type": "code",
   "execution_count": 7,
   "metadata": {},
   "outputs": [
    {
     "data": {
      "text/plain": [
       "{'apple': 'Fruit',\n",
       " 'carrot': 'Vegetable',\n",
       " 'pear': 'Fruit',\n",
       " 'broccoli': 'Vegetable'}"
      ]
     },
     "execution_count": 7,
     "metadata": {},
     "output_type": "execute_result"
    }
   ],
   "source": [
    "dict1"
   ]
  },
  {
   "cell_type": "code",
   "execution_count": 8,
   "metadata": {},
   "outputs": [
    {
     "data": {
      "text/plain": [
       "{'name': 'Srdjan',\n",
       " 'city': 'Belgrade',\n",
       " 'favorite_colors': ['blue', 'purple'],\n",
       " 'country': 'Serbia'}"
      ]
     },
     "execution_count": 8,
     "metadata": {},
     "output_type": "execute_result"
    }
   ],
   "source": [
    "data = {\n",
    "    'name': 'Srdjan',\n",
    "    'city': 'Belgrade',\n",
    "    'favorite_colors': ['blue', 'purple'],\n",
    " }\n",
    "\n",
    "data.setdefault('country', 'Serbia')\n",
    "data"
   ]
  },
  {
   "cell_type": "code",
   "execution_count": 10,
   "metadata": {},
   "outputs": [
    {
     "data": {
      "text/plain": [
       "('country', 'Serbia')"
      ]
     },
     "execution_count": 10,
     "metadata": {},
     "output_type": "execute_result"
    }
   ],
   "source": [
    "data.popitem()"
   ]
  },
  {
   "cell_type": "code",
   "execution_count": 74,
   "metadata": {},
   "outputs": [],
   "source": [
    "from pprint import pp"
   ]
  },
  {
   "cell_type": "code",
   "execution_count": 20,
   "metadata": {},
   "outputs": [
    {
     "name": "stdout",
     "output_type": "stream",
     "text": [
      "{'cake': 'devils foodcake',\n",
      " 'biscuit': 'florentine',\n",
      " 'bread': 'chelsea bun',\n",
      " 'pudding': 'vanilla trifle',\n",
      " 'dessert': 'brownie',\n",
      " 'patisserie': 'chocolate eclaire'}\n"
     ]
    }
   ],
   "source": [
    "d1 = {\n",
    "    'cake' : 'victoria sponge',\n",
    "    'biscuit' : 'ginger snap',\n",
    "    'bread' : 'chelsea bun',\n",
    "    'pudding' : 'vanilla trifle'\n",
    "}\n",
    "\n",
    "d2 = {\n",
    "    'dessert' : 'brownie',\n",
    "    'patisserie' : 'chocolate eclaire',\n",
    "    'cake' : 'devils foodcake',\n",
    "    'biscuit' : 'florentine'\n",
    "}\n",
    "\n",
    "d1.update(d2)\n",
    "\n",
    "print(d1)"
   ]
  },
  {
   "cell_type": "code",
   "execution_count": 21,
   "metadata": {},
   "outputs": [
    {
     "name": "stdout",
     "output_type": "stream",
     "text": [
      "{'cake': 'devils foodcake',\n",
      " 'biscuit': 'florentine',\n",
      " 'bread': 'chelsea bun',\n",
      " 'pudding': 'vanilla trifle',\n",
      " 'dessert': 'brownie',\n",
      " 'patisserie': 'chocolate eclaire'}\n"
     ]
    }
   ],
   "source": [
    "d1 = {\n",
    "    'cake' : 'victoria sponge',\n",
    "    'biscuit' : 'ginger snap',\n",
    "    'bread' : 'chelsea bun',\n",
    "    'pudding' : 'vanilla trifle'\n",
    "}\n",
    "\n",
    "d2 = {\n",
    "    'dessert' : 'brownie',\n",
    "    'patisserie' : 'chocolate eclaire',\n",
    "    'cake' : 'devils foodcake',\n",
    "    'biscuit' : 'florentine'\n",
    "}\n",
    "\n",
    "d1 |= d2\n",
    "\n",
    "print(d1)"
   ]
  },
  {
   "cell_type": "code",
   "execution_count": 23,
   "metadata": {},
   "outputs": [
    {
     "name": "stdout",
     "output_type": "stream",
     "text": [
      "{'cake': 'victoria sponge',\n",
      " 'biscuit': 'ginger snap',\n",
      " 'bread': 'chelsea bun',\n",
      " 'pudding': 'vanilla trifle'}\n",
      "{'cake': 'devils foodcake',\n",
      " 'biscuit': 'florentine',\n",
      " 'bread': 'chelsea bun',\n",
      " 'pudding': 'vanilla trifle',\n",
      " 'dessert': 'brownie',\n",
      " 'patisserie': 'chocolate eclaire'}\n"
     ]
    }
   ],
   "source": [
    "d1 = {\n",
    "    'cake' : 'victoria sponge',\n",
    "    'biscuit' : 'ginger snap',\n",
    "    'bread' : 'chelsea bun',\n",
    "    'pudding' : 'vanilla trifle'\n",
    "}\n",
    "\n",
    "d2 = {\n",
    "    'dessert' : 'brownie',\n",
    "    'patisserie' : 'chocolate eclaire',\n",
    "    'cake' : 'devils foodcake',\n",
    "    'biscuit' : 'florentine'\n",
    "}\n",
    "\n",
    "new_d = d1 | d2\n",
    "\n",
    "print(d1)\n",
    "print(new_d)"
   ]
  },
  {
   "cell_type": "code",
   "execution_count": 31,
   "metadata": {},
   "outputs": [
    {
     "name": "stdout",
     "output_type": "stream",
     "text": [
      "{'cake': 'devils foodcake',\n",
      " 'biscuit': ['florentine', 'shortbread'],\n",
      " 'bread': 'chelsea bun',\n",
      " 'pudding': 'vanilla trifle',\n",
      " 'dessert': 'brownie',\n",
      " 'patisserie': 'chocolate eclaire'}\n",
      "{'cake': 'devils foodcake',\n",
      " 'biscuit': ['jam biscuit', 'shortbread'],\n",
      " 'bread': 'chelsea bun',\n",
      " 'pudding': 'vanilla trifle',\n",
      " 'dessert': 'brownie',\n",
      " 'patisserie': 'chocolate eclaire'}\n",
      "{'cake': 'devils foodcake',\n",
      " 'biscuit': ['jam biscuit', 'shortbread'],\n",
      " 'bread': 'chelsea bun',\n",
      " 'pudding': 'vanilla trifle',\n",
      " 'dessert': 'brownie',\n",
      " 'patisserie': 'chocolate eclaire'}\n",
      "{'dessert': 'brownie',\n",
      " 'patisserie': 'chocolate eclaire',\n",
      " 'cake': 'devils foodcake',\n",
      " 'biscuit': 'black and white'}\n"
     ]
    }
   ],
   "source": [
    "d1 = {\n",
    "    'cake' : 'victoria sponge',\n",
    "    'biscuit' : 'ginger snap',\n",
    "    'bread' : 'chelsea bun',\n",
    "    'pudding' : 'vanilla trifle'\n",
    "}\n",
    "\n",
    "d2 = {\n",
    "    'dessert' : 'brownie',\n",
    "    'patisserie' : 'chocolate eclaire',\n",
    "    'cake' : 'devils foodcake',\n",
    "    'biscuit' : ['florentine', 'shortbread']\n",
    "}\n",
    "\n",
    "d1 |= d2\n",
    "\n",
    "print(d1)\n",
    "\n",
    "d2['biscuit'][0] = 'jam biscuit'\n",
    "\n",
    "print(d1)\n",
    "\n",
    "d2['biscuit'] = 'black and white'\n",
    "\n",
    "print(d1)\n",
    "print(d2)\n"
   ]
  },
  {
   "cell_type": "code",
   "execution_count": 32,
   "metadata": {},
   "outputs": [
    {
     "name": "stdout",
     "output_type": "stream",
     "text": [
      "{'cake': 'angels food', 'biscuit': 'vienna whirl'}\n"
     ]
    }
   ],
   "source": [
    "l1 = [['cake', 'angels food'], ['biscuit', 'vienna whirl']]\n",
    "\n",
    "d1 = dict(l1)\n",
    "\n",
    "print(d1)"
   ]
  },
  {
   "cell_type": "code",
   "execution_count": 33,
   "metadata": {},
   "outputs": [
    {
     "ename": "TypeError",
     "evalue": "unhashable type: 'list'",
     "output_type": "error",
     "traceback": [
      "\u001b[0;31m---------------------------------------------------------------------------\u001b[0m",
      "\u001b[0;31mTypeError\u001b[0m                                 Traceback (most recent call last)",
      "Cell \u001b[0;32mIn[33], line 1\u001b[0m\n\u001b[0;32m----> 1\u001b[0m s \u001b[38;5;241m=\u001b[39m \u001b[38;5;28;43mset\u001b[39;49m\u001b[43m(\u001b[49m\u001b[43ml1\u001b[49m\u001b[43m)\u001b[49m\n",
      "\u001b[0;31mTypeError\u001b[0m: unhashable type: 'list'"
     ]
    }
   ],
   "source": [
    "s = set(l1)"
   ]
  },
  {
   "cell_type": "code",
   "execution_count": 38,
   "metadata": {},
   "outputs": [
    {
     "name": "stdout",
     "output_type": "stream",
     "text": [
      "True\n",
      "True\n",
      "True\n",
      "True\n"
     ]
    }
   ],
   "source": [
    "cakes_1 = set(['vanilla', 'chocolate', 'german chocolate', 'black forest'])\n",
    "\n",
    "cakes_2 = set(['german chocolate', 'vanilla'])\n",
    "\n",
    "print(cakes_2 < cakes_1)\n",
    "print(cakes_1 >= cakes_2)\n",
    "print(cakes_1.issuperset(cakes_2))\n",
    "print(cakes_2.issubset(cakes_1))"
   ]
  },
  {
   "cell_type": "code",
   "execution_count": 48,
   "metadata": {},
   "outputs": [
    {
     "name": "stdout",
     "output_type": "stream",
     "text": [
      "True\n"
     ]
    }
   ],
   "source": [
    "bakes_1 = {'croissant', 'gingerbread', 'muffin', 'chelsea bun'}\n",
    "\n",
    "bakes_2 = {'danish', 'cinammon roll', 'gingerbread', 'poundcake'}\n",
    "\n",
    "bake_union1 = bakes_1.union(bakes_2)\n",
    "\n",
    "bake_union2 = bakes_1 | bakes_2\n",
    "\n",
    "print(bake_union1 == bake_union2) #True\n"
   ]
  },
  {
   "cell_type": "code",
   "execution_count": 56,
   "metadata": {},
   "outputs": [
    {
     "name": "stdout",
     "output_type": "stream",
     "text": [
      "{'chelsea bun', 'muffin', 'croissant'}\n",
      "True\n"
     ]
    }
   ],
   "source": [
    "bakes_1 = {'croissant', 'gingerbread', 'muffin', 'chelsea bun'}\n",
    "\n",
    "bakes_2 = {'danish', 'cinammon roll', 'gingerbread', 'poundcake'}\n",
    "\n",
    "bake_differnece1 = bakes_1.difference(bakes_2)\n",
    "\n",
    "bake_difference2 = bakes_1 - bakes_2\n",
    "\n",
    "print(bake_difference2) # {'chelsea bun', 'muffin', 'croissant'}\n",
    "print(bake_differnece1 == bake_difference2) #True\n"
   ]
  },
  {
   "cell_type": "code",
   "execution_count": 57,
   "metadata": {},
   "outputs": [
    {
     "name": "stdout",
     "output_type": "stream",
     "text": [
      "True\n"
     ]
    }
   ],
   "source": [
    "bakes_1 = {'croissant', 'gingerbread', 'muffin', 'chelsea bun'}\n",
    "\n",
    "bakes_2 = {'danish', 'cinammon roll', 'poundcake'}\n",
    "\n",
    "print(bakes_1.isdisjoint(bakes_2)) #True"
   ]
  },
  {
   "cell_type": "code",
   "execution_count": 67,
   "metadata": {},
   "outputs": [
    {
     "name": "stdout",
     "output_type": "stream",
     "text": [
      "{'churro', 'gingerbread', 'croissant', 'chelsea bun', 'muffin'}\n",
      "{'churro', 'gingerbread', 'croissant', 'chelsea bun'}\n",
      "{'gingerbread', 'croissant', 'chelsea bun'}\n",
      "set()\n"
     ]
    }
   ],
   "source": [
    "bakes_1 = {'croissant', 'gingerbread', 'muffin', 'chelsea bun'}\n",
    "\n",
    "bakes_1.add('churro')\n",
    "\n",
    "print(bakes_1) #{'churro', 'gingerbread', 'croissant', 'chelsea bun', 'muffin'}\n",
    "\n",
    "bakes_1.remove('muffin') #{'churro', 'gingerbread', 'croissant', 'chelsea bun'}\n",
    "\n",
    "print(bakes_1)\n",
    "\n",
    "bakes_1.remove('shortbread') #raises a key error\n",
    "\n",
    "bakes_1.discard('shortbread') #does not raise an error\n",
    "\n",
    "bakes_1.pop() #removes arbitrary element\n",
    "\n",
    "print(bakes_1) #{'gingerbread', 'croissant', 'chelsea bun'}\n",
    "\n",
    "bakes_1.clear()\n",
    "\n",
    "print(bakes_1) # set()\n",
    "\n",
    "bakes_1.pop() #raises key error because set is empty"
   ]
  },
  {
   "cell_type": "code",
   "execution_count": 72,
   "metadata": {},
   "outputs": [
    {
     "name": "stdout",
     "output_type": "stream",
     "text": [
      "[1, 2, 3, 4, 5, 6, 7, 8]\n"
     ]
    }
   ],
   "source": [
    "l1 = [1, 2, 3, 4]\n",
    "t1 = (5, 6, 7, 8)\n",
    "\n",
    "# combo = l1 + t1 #TypeError because we are combining a list and a tuple\n",
    "\n",
    "combo = [*l1, *t1]\n",
    "\n",
    "print(combo) # [1, 2, 3, 4, 5, 6, 7, 8]"
   ]
  },
  {
   "cell_type": "code",
   "execution_count": 7,
   "metadata": {},
   "outputs": [
    {
     "name": "stdout",
     "output_type": "stream",
     "text": [
      "candy, candy canes, candy corns, syrup\n"
     ]
    }
   ],
   "source": [
    "food_groups = ['candy', ['candy canes', 'candy corns'], 'syrup']\n",
    "\n",
    "a, (b, c), d = food_groups\n",
    "\n",
    "print(a, b, c, d, sep = ', ') # candy, candy canes, candy corns, syrup"
   ]
  },
  {
   "cell_type": "code",
   "execution_count": null,
   "metadata": {},
   "outputs": [],
   "source": [
    "\"\"\"\n",
    "PROBLEM:\n",
    "\n",
    "Given a string, write a function `palindrome_substrings` which returns\n",
    "all the palindromic substrings of the string that are 2 or more characters\n",
    "long. Palindrome detection\n",
    "should be case-sensitive.\n",
    "\"\"\"\n",
    "\n",
    "\"\"\"\n",
    "Understand the problem:\n",
    "\n",
    "input: string\n",
    "output: list of substrings of the input string that are palindromes of 2 or more characters in length. \n",
    "\n",
    "explicit requirements: palindromes are case sensitive, so Mom is not a palindrome and should not be returned.\n",
    "\n",
    "implicit requirements: \n",
    "- if no palindromic substrings exist, return an empty list\n",
    "- substrings can overlap (i.e. multiple substrings can use the same character element)\n",
    "\n",
    "\"\"\"\n",
    "\n",
    "\n",
    "\n",
    "\n",
    "\n",
    "# Test cases:\n",
    "\n",
    "# Comments show expected return values\n",
    "palindrome_substrings(\"abcddcbA\")   # [\"bcddcb\", \"cddc\", \"dd\"]\n",
    "palindrome_substrings(\"palindrome\") # []\n",
    "palindrome_substrings(\"\")           # []\n",
    "palindrome_substrings(\"repaper\")    # ['repaper', 'epape', 'pap']\n",
    "palindrome_substrings(\"supercalifragilisticexpialidocious\") # [\"ili\"]"
   ]
  }
 ],
 "metadata": {
  "kernelspec": {
   "display_name": "Python 3",
   "language": "python",
   "name": "python3"
  },
  "language_info": {
   "codemirror_mode": {
    "name": "ipython",
    "version": 3
   },
   "file_extension": ".py",
   "mimetype": "text/x-python",
   "name": "python",
   "nbconvert_exporter": "python",
   "pygments_lexer": "ipython3",
   "version": "3.12.5"
  }
 },
 "nbformat": 4,
 "nbformat_minor": 2
}
