{
 "cells": [
  {
   "cell_type": "markdown",
   "metadata": {},
   "source": [
    "Create a function that takes a list of integers as an argument and returns a tuple of two numbers that are closest together in value. If there are multiple pairs that are equally close, return the pair that occurs first in the list."
   ]
  },
  {
   "cell_type": "markdown",
   "metadata": {},
   "source": [
    "input: list of integers\n",
    "output: tuple of two numbers from list that are closes in value\n",
    "- if a tie, return the first pair\n",
    "- if only one number? \n",
    "\n",
    "algorithm:\n",
    "\n",
    "1. get all pairs in order\n",
    "- for each number i1, x in enumerate list:\n",
    "    - for each number i2, y in enumerate list:\n",
    "     - add  with [(x, y), [difference, i2]] to a list\n",
    "- sort by [difference, i2]\n",
    "- return (x, y)\n",
    "\n"
   ]
  },
  {
   "cell_type": "code",
   "execution_count": 22,
   "metadata": {},
   "outputs": [],
   "source": [
    "from pprint import pp\n",
    "\n",
    "def closest_numbers(number_list):\n",
    "    result_list = []\n",
    "\n",
    "    for idx1, num1 in enumerate(number_list):\n",
    "        for idx2, num2 in enumerate(number_list[idx1 + 1:]):\n",
    "            result_list.append([(num1, num2), [abs(num1 - num2), idx2]])\n",
    "\n",
    "    def sort_by(ll):\n",
    "        return ll[1]\n",
    "\n",
    "    result_list.sort(key = sort_by)\n",
    "    \n",
    "    return result_list[0][0]"
   ]
  },
  {
   "cell_type": "code",
   "execution_count": 24,
   "metadata": {},
   "outputs": [
    {
     "name": "stdout",
     "output_type": "stream",
     "text": [
      "True\n",
      "True\n",
      "True\n"
     ]
    }
   ],
   "source": [
    "print(closest_numbers([5, 25, 15, 11, 20]) == (15, 11))\n",
    "print(closest_numbers([19, 25, 32, 4, 27, 16]) == (25, 27))\n",
    "print(closest_numbers([12, 22, 7, 17]) == (12, 7))"
   ]
  },
  {
   "cell_type": "markdown",
   "metadata": {},
   "source": [
    "Create a function that takes a string argument and returns the character that occurs most often in the string. If there are multiple characters with the same greatest frequency, return the one that appears first in the string. When counting characters, consider uppercase and lowercase versions to be the same."
   ]
  },
  {
   "cell_type": "markdown",
   "metadata": {},
   "source": [
    "input: string\n",
    "output: most frequent character\n",
    "- remove case\n",
    "- I guess any character including white space\n",
    "\n",
    "data structure:\n",
    "- dictionary with character as key, list with first index and count as value\n",
    "\n",
    "algorithm:\n",
    "- remove case from string\n",
    "- create a set from string\n",
    "- for each character in set:\n",
    "    - add to dictionary with character as key, list with count and first index as value\n",
    "    - use find and count methods\n",
    "- sort dict by value\n"
   ]
  },
  {
   "cell_type": "code",
   "execution_count": 39,
   "metadata": {},
   "outputs": [
    {
     "data": {
      "text/plain": [
       "'p'"
      ]
     },
     "execution_count": 39,
     "metadata": {},
     "output_type": "execute_result"
    }
   ],
   "source": [
    "my_str = 'Peter Piper picked a peck of pickled peppers.'\n",
    "\n",
    "def most_common_char(string):\n",
    "    clean_string = string.casefold()\n",
    "    characters = set(clean_string)\n",
    "    char_list = []\n",
    "\n",
    "    for character in characters:\n",
    "        char_list.append([character, [clean_string.count(character)*-1, clean_string.find(character)]])\n",
    "\n",
    "    def sort_by(ll):\n",
    "        return ll[1]\n",
    "    \n",
    "    char_list.sort(key = sort_by)\n",
    "    \n",
    "    return char_list[0][0]\n",
    "\n",
    "most_common_char(my_str)"
   ]
  },
  {
   "cell_type": "code",
   "execution_count": 40,
   "metadata": {},
   "outputs": [
    {
     "name": "stdout",
     "output_type": "stream",
     "text": [
      "True\n",
      "True\n",
      "True\n",
      "True\n",
      "True\n",
      "True\n"
     ]
    }
   ],
   "source": [
    "print(most_common_char('Hello World') == 'l')\n",
    "print(most_common_char('Mississippi') == 'i')\n",
    "print(most_common_char('Happy birthday!') == 'h')\n",
    "print(most_common_char('aaaaaAAAA') == 'a')\n",
    "\n",
    "my_str = 'Peter Piper picked a peck of pickled peppers.'\n",
    "print(most_common_char(my_str) == 'p')\n",
    "\n",
    "my_str = 'Peter Piper repicked a peck of repickled peppers. He did!'\n",
    "print(most_common_char(my_str) == 'e')"
   ]
  }
 ],
 "metadata": {
  "kernelspec": {
   "display_name": "Python 3",
   "language": "python",
   "name": "python3"
  },
  "language_info": {
   "codemirror_mode": {
    "name": "ipython",
    "version": 3
   },
   "file_extension": ".py",
   "mimetype": "text/x-python",
   "name": "python",
   "nbconvert_exporter": "python",
   "pygments_lexer": "ipython3",
   "version": "3.12.5"
  }
 },
 "nbformat": 4,
 "nbformat_minor": 2
}
