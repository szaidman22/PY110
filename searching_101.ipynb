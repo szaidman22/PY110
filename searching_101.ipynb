{
 "cells": [
  {
   "cell_type": "markdown",
   "metadata": {},
   "source": [
    "Write a program that solicits six (6) numbers from the user and prints a message that describes whether the sixth number appears among the first five.\n",
    "\n",
    "- Enter the 1st number: 25\n",
    "- Enter the 2nd number: 15\n",
    "- Enter the 3rd number: 20\n",
    "- Enter the 4th number: 17\n",
    "- Enter the 5th number: 23\n",
    "- Enter the last number: 17\n",
    "\n",
    "17 is in 25,15,20,17,23."
   ]
  },
  {
   "cell_type": "markdown",
   "metadata": {},
   "source": [
    "P\n",
    "- input: 6 numbers (assume integers)\n",
    "- output: string, \"[6th] number is [not] in [list of first 5 numbers]\"\n",
    "- explicit rules: must have 6 number inputs\n",
    "- implicit rules: can be negative, assuming they should be integers\n",
    "\n",
    "E\n",
    "- see above\n",
    "\n",
    "D\n",
    "- will need a list for the input numbers\n",
    "\n",
    "A\n",
    "- GET user input, 6 separate numbers one after another\n",
    "    - CONVERT string input to integer\n",
    "    - INSERT first 5 integers into a list\n",
    "- for 6th input string converted into an integer\n",
    "- test if it is a member of the list (boolean)\n",
    "- print results of test accordingly\n",
    "    - if True, print __ is in [list]\n",
    "    - else, print __ isn't in [list]"
   ]
  },
  {
   "cell_type": "code",
   "execution_count": 1,
   "metadata": {},
   "outputs": [],
   "source": [
    "num_list = [input(\"Enter the first number: \"), \n",
    "            input(\"Enter the second number: \"),\n",
    "            input(\"Enter the third number: \"),\n",
    "            input(\"Enter the fourth number: \"),\n",
    "            input(\"Enter the fifth number: \")]\n",
    "\n",
    "last_num = input(\"Ener the last number: \")\n",
    "\n",
    "if last_num in num_list:\n",
    "    print(f\"{last_num} is in {','.join(num_list)}\")\n",
    "else:\n",
    "    print(f\"{last_num} isn't in {','.join(num_list)}\")\n"
   ]
  }
 ],
 "metadata": {
  "kernelspec": {
   "display_name": "Python 3",
   "language": "python",
   "name": "python3"
  },
  "language_info": {
   "codemirror_mode": {
    "name": "ipython",
    "version": 3
   },
   "file_extension": ".py",
   "mimetype": "text/x-python",
   "name": "python",
   "nbconvert_exporter": "python",
   "pygments_lexer": "ipython3",
   "version": "3.12.5"
  }
 },
 "nbformat": 4,
 "nbformat_minor": 2
}
