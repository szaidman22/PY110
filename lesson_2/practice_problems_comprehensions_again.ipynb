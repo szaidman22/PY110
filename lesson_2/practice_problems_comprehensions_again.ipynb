{
 "cells": [
  {
   "cell_type": "markdown",
   "metadata": {},
   "source": [
    "Compute and display the total age of the family's male members. Try working out the answer two ways: first with an ordinary loop, then with a comprehension.\n",
    "\n",
    "The result should be 444."
   ]
  },
  {
   "cell_type": "code",
   "execution_count": 2,
   "metadata": {},
   "outputs": [],
   "source": [
    "munsters = {\n",
    "    'Herman':  {'age': 32,  'gender': 'male'},\n",
    "    'Lily':    {'age': 30,  'gender': 'female'},\n",
    "    'Grandpa': {'age': 402, 'gender': 'male'},\n",
    "    'Eddie':   {'age': 10,  'gender': 'male'},\n",
    "    'Marilyn': {'age': 23,  'gender': 'female'},\n",
    "}"
   ]
  },
  {
   "cell_type": "code",
   "execution_count": 9,
   "metadata": {},
   "outputs": [
    {
     "data": {
      "text/plain": [
       "444"
      ]
     },
     "execution_count": 9,
     "metadata": {},
     "output_type": "execute_result"
    }
   ],
   "source": [
    "sum([munster['age'] for munster in munsters.values() if munster['gender'] == 'male'])"
   ]
  },
  {
   "cell_type": "markdown",
   "metadata": {},
   "source": [
    "Given the following data structure, return a new list with the same structure, but with the values in each sublist ordered in ascending order. Use a comprehension if you can. (Try using a for loop first.)"
   ]
  },
  {
   "cell_type": "code",
   "execution_count": 14,
   "metadata": {},
   "outputs": [],
   "source": [
    "lst = [['b', 'c', 'a'], [2, 11, -3], ['blue', 'black', 'green']]"
   ]
  },
  {
   "cell_type": "code",
   "execution_count": 16,
   "metadata": {},
   "outputs": [
    {
     "name": "stdout",
     "output_type": "stream",
     "text": [
      "[['a', 'b', 'c'], [-3, 2, 11], ['black', 'blue', 'green']]\n",
      "[['b', 'c', 'a'], [2, 11, -3], ['blue', 'black', 'green']]\n"
     ]
    }
   ],
   "source": [
    "print([sorted(list) for list in lst])\n",
    "print(lst)"
   ]
  },
  {
   "cell_type": "code",
   "execution_count": 17,
   "metadata": {},
   "outputs": [
    {
     "name": "stdout",
     "output_type": "stream",
     "text": [
      "[['a', 'b', 'c'], [-3, 11, 2], ['black', 'blue', 'green']]\n",
      "[['b', 'c', 'a'], [2, 11, -3], ['blue', 'black', 'green']]\n"
     ]
    }
   ],
   "source": [
    "print([sorted(list, key = str) for list in lst])\n",
    "print(lst)"
   ]
  },
  {
   "cell_type": "code",
   "execution_count": 19,
   "metadata": {},
   "outputs": [],
   "source": [
    "lst = [\n",
    "    ['a', 1],\n",
    "    ['b', 'two'],\n",
    "    ['sea', {'c': 3}],\n",
    "    ['D', ['a', 'b', 'c']]\n",
    "]"
   ]
  },
  {
   "cell_type": "code",
   "execution_count": 20,
   "metadata": {},
   "outputs": [
    {
     "data": {
      "text/plain": [
       "{'a': 1, 'b': 'two', 'sea': {'c': 3}, 'D': ['a', 'b', 'c']}"
      ]
     },
     "execution_count": 20,
     "metadata": {},
     "output_type": "execute_result"
    }
   ],
   "source": [
    "{list[0] : list[1] for list in lst}"
   ]
  },
  {
   "cell_type": "markdown",
   "metadata": {},
   "source": [
    "Given the following data structure, sort the list so that the sub-lists are ordered based on the sum of the odd numbers that they contain. You shouldn't mutate the original list."
   ]
  },
  {
   "cell_type": "code",
   "execution_count": 23,
   "metadata": {},
   "outputs": [],
   "source": [
    "lst = [[1, 6, 7], [1, 5, 3], [1, 8, 3]]"
   ]
  },
  {
   "cell_type": "code",
   "execution_count": 27,
   "metadata": {},
   "outputs": [
    {
     "name": "stdout",
     "output_type": "stream",
     "text": [
      "[[1, 8, 3], [1, 6, 7], [1, 5, 3]]\n"
     ]
    }
   ],
   "source": [
    "def sum_odd(list):\n",
    "    return sum([num for num in list if num % 2 != 0])\n",
    "\n",
    "lst.sort(key = sum_odd)\n",
    "print(lst)"
   ]
  }
 ],
 "metadata": {
  "kernelspec": {
   "display_name": "Python 3",
   "language": "python",
   "name": "python3"
  },
  "language_info": {
   "codemirror_mode": {
    "name": "ipython",
    "version": 3
   },
   "file_extension": ".py",
   "mimetype": "text/x-python",
   "name": "python",
   "nbconvert_exporter": "python",
   "pygments_lexer": "ipython3",
   "version": "3.12.5"
  }
 },
 "nbformat": 4,
 "nbformat_minor": 2
}
