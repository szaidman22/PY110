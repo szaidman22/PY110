{
 "cells": [
  {
   "cell_type": "markdown",
   "metadata": {},
   "source": [
    "For each object shown below, demonstrate how you would access the letter g."
   ]
  },
  {
   "cell_type": "code",
   "execution_count": 6,
   "metadata": {},
   "outputs": [],
   "source": [
    "lst1 = ['a', 'b', ['c', ['d', 'e', 'f', 'g']]]\n",
    "\n",
    "lst2 = [\n",
    "    {\n",
    "        'first': ['a', 'b', 'c'],\n",
    "        'second': ['d', 'e', 'f']\n",
    "    },\n",
    "    {\n",
    "        'third': ['g', 'h', 'i']\n",
    "    }\n",
    "]\n",
    "\n",
    "lst3 = [['abc'], ['def'], {'third': ['ghi']}]\n",
    "\n",
    "dict1 = {'a': ['d', 'e'], 'b': ['f', 'g'], 'c': ['h', 'i']}\n",
    "\n",
    "# This one is much more challenging than it looks! Try it, but don't\n",
    "# stress about it. If you don't solve it in 10 minutes, you can look\n",
    "# at the answer.\n",
    "dict2 = {'1st': {'d': 3}, '2nd': {'e': 2, 'f': 1}, '3rd': {'g': 0}}"
   ]
  },
  {
   "cell_type": "code",
   "execution_count": 9,
   "metadata": {},
   "outputs": [
    {
     "data": {
      "text/plain": [
       "'g'"
      ]
     },
     "execution_count": 9,
     "metadata": {},
     "output_type": "execute_result"
    }
   ],
   "source": [
    "lst1[2][1][3]"
   ]
  },
  {
   "cell_type": "code",
   "execution_count": 10,
   "metadata": {},
   "outputs": [
    {
     "data": {
      "text/plain": [
       "'g'"
      ]
     },
     "execution_count": 10,
     "metadata": {},
     "output_type": "execute_result"
    }
   ],
   "source": [
    "lst2[1][\"third\"][0]"
   ]
  },
  {
   "cell_type": "code",
   "execution_count": 12,
   "metadata": {},
   "outputs": [
    {
     "data": {
      "text/plain": [
       "'g'"
      ]
     },
     "execution_count": 12,
     "metadata": {},
     "output_type": "execute_result"
    }
   ],
   "source": [
    "lst3[2][\"third\"][0][0]"
   ]
  },
  {
   "cell_type": "code",
   "execution_count": 16,
   "metadata": {},
   "outputs": [
    {
     "data": {
      "text/plain": [
       "'g'"
      ]
     },
     "execution_count": 16,
     "metadata": {},
     "output_type": "execute_result"
    }
   ],
   "source": [
    "dict1['b'][1]"
   ]
  },
  {
   "cell_type": "code",
   "execution_count": 22,
   "metadata": {},
   "outputs": [
    {
     "data": {
      "text/plain": [
       "'g'"
      ]
     },
     "execution_count": 22,
     "metadata": {},
     "output_type": "execute_result"
    }
   ],
   "source": [
    "list(dict2['3rd'].keys())[0]\n"
   ]
  },
  {
   "cell_type": "markdown",
   "metadata": {},
   "source": [
    "For each of these collection objects, demonstrate how you would change the value 3 to 4.\n"
   ]
  },
  {
   "cell_type": "code",
   "execution_count": 23,
   "metadata": {},
   "outputs": [],
   "source": [
    "lst1 = [1, [2, 3], 4]\n",
    "\n",
    "lst2 = [{'a': 1}, {'b': 2, 'c': [7, 6, 5], 'd': 4}, 3]\n",
    "\n",
    "dict1 = {'first': [1, 2, [3]]}\n",
    "\n",
    "dict2 = {'a': {'a': ['1', 'two', 3], 'b': 4}, 'b': 5}\n"
   ]
  },
  {
   "cell_type": "code",
   "execution_count": 24,
   "metadata": {},
   "outputs": [
    {
     "name": "stdout",
     "output_type": "stream",
     "text": [
      "[1, [2, 4], 4]\n"
     ]
    }
   ],
   "source": [
    "lst1[1][1] = 4\n",
    "print(lst1)"
   ]
  },
  {
   "cell_type": "code",
   "execution_count": 25,
   "metadata": {},
   "outputs": [
    {
     "name": "stdout",
     "output_type": "stream",
     "text": [
      "[{'a': 1}, {'b': 2, 'c': [7, 6, 5], 'd': 4}, 4]\n"
     ]
    }
   ],
   "source": [
    "lst2[2] = 4\n",
    "print(lst2)"
   ]
  },
  {
   "cell_type": "code",
   "execution_count": 26,
   "metadata": {},
   "outputs": [
    {
     "name": "stdout",
     "output_type": "stream",
     "text": [
      "{'first': [1, 2, [4]]}\n"
     ]
    }
   ],
   "source": [
    "dict1['first'][2][0] = 4\n",
    "print(dict1)"
   ]
  },
  {
   "cell_type": "code",
   "execution_count": 27,
   "metadata": {},
   "outputs": [
    {
     "name": "stdout",
     "output_type": "stream",
     "text": [
      "{'a': {'a': ['1', 'two', 4], 'b': 4}, 'b': 5}\n"
     ]
    }
   ],
   "source": [
    "dict2['a']['a'][2] = 4\n",
    "print(dict2)"
   ]
  },
  {
   "cell_type": "markdown",
   "metadata": {},
   "source": [
    "Given the following code, what will the final values of a and b be? Try to answer without running the code."
   ]
  },
  {
   "cell_type": "code",
   "execution_count": 28,
   "metadata": {},
   "outputs": [
    {
     "name": "stdout",
     "output_type": "stream",
     "text": [
      "2 [3, 8]\n"
     ]
    }
   ],
   "source": [
    "a = 2\n",
    "b = [5, 8]\n",
    "lst = [a, b] # [2, [5, 8]]\n",
    "\n",
    "lst[0] += 2 # doesn't change a\n",
    "lst[1][0] -= a # b is now [(5-2), 8] = [3, 8]\n",
    "\n",
    "# a will be 2\n",
    "# b will be [3, 8]\n",
    "\n",
    "print(a, b)"
   ]
  },
  {
   "cell_type": "markdown",
   "metadata": {},
   "source": [
    "Given the object shown below, print the name, age, and gender of each family member:"
   ]
  },
  {
   "cell_type": "code",
   "execution_count": 29,
   "metadata": {},
   "outputs": [],
   "source": [
    "munsters = {\n",
    "    'Herman':  {'age': 32,  'gender': 'male'},\n",
    "    'Lily':    {'age': 30,  'gender': 'female'},\n",
    "    'Grandpa': {'age': 402, 'gender': 'male'},\n",
    "    'Eddie':   {'age': 10,  'gender': 'male'},\n",
    "    'Marilyn': {'age': 23,  'gender': 'female'},\n",
    "}"
   ]
  },
  {
   "cell_type": "code",
   "execution_count": 44,
   "metadata": {},
   "outputs": [
    {
     "name": "stdout",
     "output_type": "stream",
     "text": [
      "Herman is a 32-year-old male\n",
      "Lily is a 30-year-old female\n",
      "Grandpa is a 402-year-old male\n",
      "Eddie is a 10-year-old male\n",
      "Marilyn is a 23-year-old female\n"
     ]
    }
   ],
   "source": [
    "for key, value in munsters.items():\n",
    "    print(f\"{key} is a {value['age']}-year-old {value['gender']}\")"
   ]
  }
 ],
 "metadata": {
  "kernelspec": {
   "display_name": "Python 3",
   "language": "python",
   "name": "python3"
  },
  "language_info": {
   "codemirror_mode": {
    "name": "ipython",
    "version": 3
   },
   "file_extension": ".py",
   "mimetype": "text/x-python",
   "name": "python",
   "nbconvert_exporter": "python",
   "pygments_lexer": "ipython3",
   "version": "3.12.5"
  }
 },
 "nbformat": 4,
 "nbformat_minor": 2
}
