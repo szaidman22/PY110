{
 "cells": [
  {
   "cell_type": "code",
   "execution_count": 1,
   "metadata": {},
   "outputs": [],
   "source": [
    "munsters = {\n",
    "    'Herman':  {'age': 32,  'gender': 'male'},\n",
    "    'Lily':    {'age': 30,  'gender': 'female'},\n",
    "    'Grandpa': {'age': 402, 'gender': 'male'},\n",
    "    'Eddie':   {'age': 10,  'gender': 'male'},\n",
    "    'Marilyn': {'age': 23,  'gender': 'female'},\n",
    "}"
   ]
  },
  {
   "cell_type": "markdown",
   "metadata": {},
   "source": [
    "Compute and display the total age of the family's male members. Try working out the answer two ways: first with an ordinary loop, then with a comprehension.\n",
    "\n",
    "The result should be 444."
   ]
  },
  {
   "cell_type": "code",
   "execution_count": 10,
   "metadata": {},
   "outputs": [
    {
     "name": "stdout",
     "output_type": "stream",
     "text": [
      "444\n"
     ]
    }
   ],
   "source": [
    "age = 0\n",
    "\n",
    "for values in munsters.values():\n",
    "\n",
    "    if values['gender'] == 'male':\n",
    "        age += values['age']\n",
    "\n",
    "print(age)"
   ]
  },
  {
   "cell_type": "code",
   "execution_count": 17,
   "metadata": {},
   "outputs": [
    {
     "name": "stdout",
     "output_type": "stream",
     "text": [
      "444\n"
     ]
    }
   ],
   "source": [
    "age = sum([munster['age'] for munster in munsters.values() \n",
    "                          if munster['gender'] == 'male'])\n",
    "\n",
    "print(age)\n"
   ]
  },
  {
   "cell_type": "markdown",
   "metadata": {},
   "source": [
    "Given the following data structure, return a new list with the same structure, but with the values in each sublist ordered in ascending order. Use a comprehension if you can. (Try using a for loop first.)"
   ]
  },
  {
   "cell_type": "code",
   "execution_count": 18,
   "metadata": {},
   "outputs": [],
   "source": [
    "lst = [['b', 'c', 'a'], [2, 11, -3], ['blue', 'black', 'green']]"
   ]
  },
  {
   "cell_type": "code",
   "execution_count": 23,
   "metadata": {},
   "outputs": [
    {
     "data": {
      "text/plain": [
       "[['a', 'b', 'c'], [-3, 2, 11], ['black', 'blue', 'green']]"
      ]
     },
     "execution_count": 23,
     "metadata": {},
     "output_type": "execute_result"
    }
   ],
   "source": [
    "lst_new = [sorted(inner_list) for inner_list in lst]\n",
    "\n",
    "lst_new"
   ]
  },
  {
   "cell_type": "markdown",
   "metadata": {},
   "source": [
    "Given the following data structure, return a new list with the same structure, but with the values in each sublist ordered in ascending order as strings (that is, the numbers should be treated as strings). Use a comprehension if you can. (Try using a for loop first.)"
   ]
  },
  {
   "cell_type": "code",
   "execution_count": 48,
   "metadata": {},
   "outputs": [
    {
     "name": "stdout",
     "output_type": "stream",
     "text": [
      "[['a', 'b', 'c'], [-3, 11, 2], ['black', 'blue', 'green']]\n"
     ]
    }
   ],
   "source": [
    "lst = [['b', 'c', 'a'], \n",
    "       [2, 11, -3], \n",
    "       ['blue', 'black', 'green']]\n",
    "\n",
    "new_list = []\n",
    "\n",
    "for x in lst:\n",
    "    x = sorted(x, key = str)\n",
    "    new_list.append(x)\n",
    "\n",
    "print(new_list)"
   ]
  },
  {
   "cell_type": "code",
   "execution_count": 47,
   "metadata": {},
   "outputs": [
    {
     "data": {
      "text/plain": [
       "[['a', 'b', 'c'], [-3, 11, 2], ['black', 'blue', 'green']]"
      ]
     },
     "execution_count": 47,
     "metadata": {},
     "output_type": "execute_result"
    }
   ],
   "source": [
    "lst = [['b', 'c', 'a'], \n",
    "       [2, 11, -3], \n",
    "       ['blue', 'black', 'green']]\n",
    "\n",
    "new_list = [sorted(sublist, key = str) for sublist in lst]\n",
    "\n",
    "new_list"
   ]
  },
  {
   "cell_type": "markdown",
   "metadata": {},
   "source": [
    "Given the following data structure, write some code that defines a dictionary where the key is the first item in each sublist, and the value is the second."
   ]
  },
  {
   "cell_type": "code",
   "execution_count": 55,
   "metadata": {},
   "outputs": [
    {
     "name": "stdout",
     "output_type": "stream",
     "text": [
      "{'a': 1, 'b': 'two', 'sea': {'c': 3}, 'D': ['a', 'b', 'c']}\n"
     ]
    }
   ],
   "source": [
    "from pprint import pp\n",
    "\n",
    "lst = [\n",
    "    ['a', 1],\n",
    "    ['b', 'two'],\n",
    "    ['sea', {'c': 3}],\n",
    "    ['D', ['a', 'b', 'c']]\n",
    "]\n",
    "\n",
    "my_dict = {sublist[0]: sublist[1] for sublist in lst}\n",
    "\n",
    "pp(my_dict)"
   ]
  },
  {
   "cell_type": "markdown",
   "metadata": {},
   "source": [
    "Given the following data structure, sort the list so that the sub-lists are ordered based on the sum of the odd numbers that they contain. You shouldn't mutate the original list."
   ]
  },
  {
   "cell_type": "code",
   "execution_count": 94,
   "metadata": {},
   "outputs": [
    {
     "data": {
      "text/plain": [
       "[[1, 8, 3], [1, 6, 7], [1, 5, 3]]"
      ]
     },
     "execution_count": 94,
     "metadata": {},
     "output_type": "execute_result"
    }
   ],
   "source": [
    "lst = [[1, 6, 7], [1, 5, 3], [1, 8, 3]]\n",
    "\n",
    "# result: [[1, 8, 3], [1, 6, 7], [1, 5, 3]]\n",
    "\n",
    "    \n",
    "#new_lst = sorted(lst, key = sum_odd)\n",
    "def sum_odd_numbers(sublist):\n",
    "    return sum([item for item in sublist if item % 2 != 0])\n",
    "\n",
    "new_lst = sorted(lst, key = sum_odd_numbers)\n",
    "\n",
    "new_lst"
   ]
  },
  {
   "cell_type": "markdown",
   "metadata": {},
   "source": [
    "Given the following data structure, return a new list identical in structure to the original but, with each number incremented by 1. Do not modify the original data structure. Use a comprehension."
   ]
  },
  {
   "cell_type": "code",
   "execution_count": 129,
   "metadata": {},
   "outputs": [
    {
     "data": {
      "text/plain": [
       "[{'a': 2}, {'b': 3, 'c': 4}, {'d': 5, 'e': 6, 'f': 7}]"
      ]
     },
     "execution_count": 129,
     "metadata": {},
     "output_type": "execute_result"
    }
   ],
   "source": [
    "lst = [{'a': 1}, {'b': 2, 'c': 3}, {'d': 4, 'e': 5, 'f': 6}]\n",
    "\n",
    "# [{'a': 2}, {'b': 3, 'c': 4}, {'d': 5, 'e': 6, 'f': 7}]\n",
    "\n",
    "\"\"\"\n",
    "for dict in lst:\n",
    "    for key, value in dict.items():\n",
    "        dict[key] = value + 1\n",
    "\"\"\"\n",
    "\n",
    "\n",
    "new_dict = [{key: value + 1 for key, value in sub_dict.items()} for sub_dict in lst]\n",
    "\n",
    "new_dict\n"
   ]
  },
  {
   "cell_type": "markdown",
   "metadata": {},
   "source": [
    "Given the following data structure return a new list identical in structure to the original, but containing only the numbers that are multiples of 3."
   ]
  },
  {
   "cell_type": "code",
   "execution_count": 131,
   "metadata": {},
   "outputs": [
    {
     "data": {
      "text/plain": [
       "[[], [3, 12], [9], [15, 18]]"
      ]
     },
     "execution_count": 131,
     "metadata": {},
     "output_type": "execute_result"
    }
   ],
   "source": [
    "lst = [[2], [3, 5, 7, 12], [9], [11, 15, 18]]\n",
    "\n",
    "#[[], [3, 12], [9], [15, 18]]\n",
    "\n",
    "ln = [[number for number in sublist if number % 3 == 0] for sublist in lst]\n",
    "\n",
    "ln"
   ]
  },
  {
   "cell_type": "markdown",
   "metadata": {},
   "source": [
    "Given the following data structure, write some code to return a list that contains the colors of the fruits and the sizes of the vegetables. The sizes should be uppercase, and the colors should be capitalized."
   ]
  },
  {
   "cell_type": "code",
   "execution_count": 134,
   "metadata": {},
   "outputs": [],
   "source": [
    "dict1 = {\n",
    "    'grape': {\n",
    "        'type': 'fruit',\n",
    "        'colors': ['red', 'green'],\n",
    "        'size': 'small',\n",
    "    },\n",
    "    'carrot': {\n",
    "        'type': 'vegetable',\n",
    "        'colors': ['orange'],\n",
    "        'size': 'medium',\n",
    "    },\n",
    "    'apricot': {\n",
    "        'type': 'fruit',\n",
    "        'colors': ['orange'],\n",
    "        'size': 'medium',\n",
    "    },\n",
    "    'marrow': {\n",
    "        'type': 'vegetable',\n",
    "        'colors': ['green'],\n",
    "        'size': 'large',\n",
    "    },\n",
    "}"
   ]
  },
  {
   "cell_type": "code",
   "execution_count": 159,
   "metadata": {},
   "outputs": [
    {
     "data": {
      "text/plain": [
       "[['Red', 'Green'], 'MEDIUM', ['Orange'], 'LARGE']"
      ]
     },
     "execution_count": 159,
     "metadata": {},
     "output_type": "execute_result"
    }
   ],
   "source": [
    "colors_sizes = []\n",
    "\n",
    "for produce, values in dict1.items():\n",
    "    if values['type'] == 'fruit':\n",
    "        colors_sizes.append([color.title() for color in values['colors']])\n",
    "    elif values['type'] == 'vegetable':\n",
    "        colors_sizes.append(values['size'].upper())\n",
    "\n",
    "colors_sizes"
   ]
  },
  {
   "cell_type": "markdown",
   "metadata": {},
   "source": [
    "Given the following data structure, write some code to return a list that contains only the dictionaries where all the numbers are even."
   ]
  },
  {
   "cell_type": "code",
   "execution_count": 231,
   "metadata": {},
   "outputs": [
    {
     "name": "stdout",
     "output_type": "stream",
     "text": [
      "[1, 2, 3] True\n",
      "include = False\n",
      "[2, 4, 6] False\n",
      "[3, 6] True\n",
      "[4] False\n",
      "include = False\n",
      "[8] False\n",
      "[6, 10] False\n",
      "include = True\n"
     ]
    },
    {
     "data": {
      "text/plain": [
       "[{'e': [8], 'f': [6, 10]}]"
      ]
     },
     "execution_count": 231,
     "metadata": {},
     "output_type": "execute_result"
    }
   ],
   "source": [
    "lst = [\n",
    "    {'a': [1, 2, 3]},\n",
    "    {'b': [2, 4, 6], 'c': [3, 6], 'd': [4]},\n",
    "    {'e': [8], 'f': [6, 10]},\n",
    "]\n",
    "\n",
    "# expected result: [{e: [8], f: [6, 10]}]\n",
    "\n",
    "def include_test(dictionary):\n",
    "    include = True\n",
    "    for values in dictionary.values():\n",
    "        print(values, not all([number % 2 == 0 for number in values]))\n",
    "        if not all([number % 2 == 0 for number in values]):\n",
    "            include = False\n",
    "    print(f\"{include = }\")\n",
    "    return include\n",
    "\n",
    "[dictionary for dictionary in lst if include_test(dictionary)] \n",
    "\n"
   ]
  },
  {
   "cell_type": "code",
   "execution_count": 217,
   "metadata": {},
   "outputs": [
    {
     "name": "stdout",
     "output_type": "stream",
     "text": [
      "[{'e': [8], 'f': [6, 10]}]\n"
     ]
    }
   ],
   "source": [
    "def all_even(dictionary):\n",
    "    for values in dictionary.values():\n",
    "        if not all([num % 2 == 0 for num in values]):\n",
    "            return False\n",
    "\n",
    "    return True\n",
    "\n",
    "result = [val for val in lst if all_even(val)]\n",
    "print(result)"
   ]
  },
  {
   "cell_type": "markdown",
   "metadata": {},
   "source": [
    "A UUID (Universally Unique Identifier) is a type of identifier often used to uniquely identify items, even when some of those items were created on a different server or by a different application. That is, without any synchronization, two or more computer systems can create new items and label them with a UUID with no significant risk of stepping on each other's toes. It accomplishes this feat through massive randomization. The number of possible UUID values is approximately 3.4 X 10E38, which is a huge number. The chance of a conflict, a \"collision\", is vanishingly small with such a large number of possible values.\n",
    "\n",
    "Each UUID consists of 32 hexadecimal characters (the digits 0-9 and the letters a-f) represented as a string. The value is typically broken into 5 sections in an 8-4-4-4-12 pattern, e.g., 'f65c57f6-a6aa-17a8-faa1-a67f2dc9fa91'.\n",
    "\n",
    "**Write a function that takes no arguments and returns a string that contains a UUID.**\n",
    "\n"
   ]
  },
  {
   "cell_type": "code",
   "execution_count": 276,
   "metadata": {},
   "outputs": [
    {
     "data": {
      "text/plain": [
       "'e169e25-5bed-73de-43c2-f83fb603dbf1f'"
      ]
     },
     "execution_count": 276,
     "metadata": {},
     "output_type": "execute_result"
    }
   ],
   "source": [
    "'''\n",
    "no input, output is 32 hexadecimal characters (0-9 and a-f in a string in 8-4-4-4-12)\n",
    "'''\n",
    "\n",
    "def uuid_generator():\n",
    "    import random\n",
    "    characters = ['a','b','c','d','e','f', *list(range(0,10))]\n",
    "    uuid = ''.join([str(random.choice(characters)) for x in range(32)])\n",
    "    return uuid[:7] + '-' + uuid[7:11] + '-' + uuid[11:15] + '-' + uuid[15:19] + '-' + uuid[19:]\n",
    "\n",
    "uuid_generator()"
   ]
  },
  {
   "cell_type": "markdown",
   "metadata": {},
   "source": [
    "The following dictionary has list values that contains strings. Write some code to create a list of every vowel (a, e, i, o, u) that appears in the contained strings, then print it."
   ]
  },
  {
   "cell_type": "code",
   "execution_count": 283,
   "metadata": {},
   "outputs": [
    {
     "data": {
      "text/plain": [
       "['e', 'u', 'i', 'o', 'o', 'u', 'e', 'o', 'e', 'e', 'a', 'o']"
      ]
     },
     "execution_count": 283,
     "metadata": {},
     "output_type": "execute_result"
    }
   ],
   "source": [
    "dict1 = {\n",
    "    'first':  ['the', 'quick'],\n",
    "    'second': ['brown', 'fox'],\n",
    "    'third':  ['jumped'],\n",
    "    'fourth': ['over', 'the', 'lazy', 'dog'],\n",
    "}\n",
    "\n",
    "# Your code goes here\n",
    "\n",
    "#print(list_of_vowels)\n",
    "# ['e', 'u', 'i', 'o', 'o', 'u', 'e', 'o', 'e', 'e', 'a', 'o']\n",
    "\n",
    "''' \n",
    "input: dictionary\n",
    "output: list of vowels in dictionary values\n",
    "\n",
    "algorithm:\n",
    "\n",
    "- for each value in dictionary:\n",
    "    - for each string in the value list:\n",
    "        - for each letter in the string:\n",
    "        - test if the letter is a,e,i,o,u\n",
    "        - add to list if so\n",
    "'''\n",
    "\n",
    "list_of_vowels = [character\n",
    "                        for values in dict1.values()\n",
    "                        for string in values\n",
    "                        for character in string\n",
    "                        if character in ['a','e','i','o','u']\n",
    "                        ]\n",
    "\n",
    "list_of_vowels\n"
   ]
  },
  {
   "cell_type": "code",
   "execution_count": 284,
   "metadata": {},
   "outputs": [
    {
     "ename": "TypeError",
     "evalue": "'<' not supported between instances of 'int' and 'str'",
     "output_type": "error",
     "traceback": [
      "\u001b[0;31m---------------------------------------------------------------------------\u001b[0m",
      "\u001b[0;31mTypeError\u001b[0m                                 Traceback (most recent call last)",
      "Cell \u001b[0;32mIn[284], line 3\u001b[0m\n\u001b[1;32m      1\u001b[0m characters \u001b[38;5;241m=\u001b[39m [\u001b[38;5;124m'\u001b[39m\u001b[38;5;124ma\u001b[39m\u001b[38;5;124m'\u001b[39m,\u001b[38;5;124m'\u001b[39m\u001b[38;5;124mb\u001b[39m\u001b[38;5;124m'\u001b[39m,\u001b[38;5;124m'\u001b[39m\u001b[38;5;124mc\u001b[39m\u001b[38;5;124m'\u001b[39m,\u001b[38;5;124m'\u001b[39m\u001b[38;5;124md\u001b[39m\u001b[38;5;124m'\u001b[39m,\u001b[38;5;124m'\u001b[39m\u001b[38;5;124me\u001b[39m\u001b[38;5;124m'\u001b[39m,\u001b[38;5;124m'\u001b[39m\u001b[38;5;124mf\u001b[39m\u001b[38;5;124m'\u001b[39m, \u001b[38;5;241m*\u001b[39m\u001b[38;5;28mlist\u001b[39m(\u001b[38;5;28mrange\u001b[39m(\u001b[38;5;241m0\u001b[39m,\u001b[38;5;241m10\u001b[39m))]\n\u001b[0;32m----> 3\u001b[0m \u001b[43mcharacters\u001b[49m\u001b[38;5;241;43m.\u001b[39;49m\u001b[43msort\u001b[49m\u001b[43m(\u001b[49m\u001b[43m)\u001b[49m\n",
      "\u001b[0;31mTypeError\u001b[0m: '<' not supported between instances of 'int' and 'str'"
     ]
    }
   ],
   "source": [
    "characters = ['a','b','c','d','e','f', *list(range(0,10))]\n",
    "\n",
    "characters.sort()\n"
   ]
  },
  {
   "cell_type": "code",
   "execution_count": 300,
   "metadata": {},
   "outputs": [
    {
     "name": "stdout",
     "output_type": "stream",
     "text": [
      "starting list: [1, 3, 4, 2, 4, 6, 5, 7, 9, 10, 12]\n",
      "1 was removed\n",
      "current value is 1\n",
      "starting list: [3, 4, 2, 4, 6, 5, 7, 9, 10, 12]\n",
      "3 was removed\n",
      "current value is 4\n",
      "starting list: [4, 2, 4, 6, 5, 7, 9, 10, 12]\n",
      "4 was removed\n",
      "current value is 4\n",
      "starting list: [2, 4, 6, 5, 7, 9, 10, 12]\n",
      "2 was removed\n",
      "current value is 5\n",
      "starting list: [4, 6, 5, 7, 9, 10, 12]\n",
      "4 was removed\n",
      "current value is 9\n",
      "starting list: [6, 5, 7, 9, 10, 12]\n",
      "6 was removed\n",
      "current value is 12\n"
     ]
    },
    {
     "data": {
      "text/plain": [
       "[4, 4, 12]"
      ]
     },
     "execution_count": 300,
     "metadata": {},
     "output_type": "execute_result"
    }
   ],
   "source": [
    "def even_values(lst):\n",
    "    evens = []\n",
    "\n",
    "    for value in lst:\n",
    "        print(f\"starting list: {lst}\")\n",
    "        if value % 2 == 0:\n",
    "            \n",
    "            evens.append(value)\n",
    "        x = lst.pop(0)\n",
    "        print(f\"{x} was removed\")\n",
    "        print(f\"current value is {value}\")\n",
    "\n",
    "    return evens\n",
    "\n",
    "even_values([1, 3, 4, 2, 4, 6, 5, 7, 9, 10, 12])"
   ]
  },
  {
   "cell_type": "code",
   "execution_count": null,
   "metadata": {},
   "outputs": [],
   "source": []
  }
 ],
 "metadata": {
  "kernelspec": {
   "display_name": "Python 3",
   "language": "python",
   "name": "python3"
  },
  "language_info": {
   "codemirror_mode": {
    "name": "ipython",
    "version": 3
   },
   "file_extension": ".py",
   "mimetype": "text/x-python",
   "name": "python",
   "nbconvert_exporter": "python",
   "pygments_lexer": "ipython3",
   "version": "3.12.5"
  }
 },
 "nbformat": 4,
 "nbformat_minor": 2
}
