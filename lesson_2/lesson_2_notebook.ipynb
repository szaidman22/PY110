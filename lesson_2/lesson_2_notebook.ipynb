{
 "cells": [
  {
   "cell_type": "code",
   "execution_count": 4,
   "metadata": {},
   "outputs": [
    {
     "name": "stdout",
     "output_type": "stream",
     "text": [
      "[('John', 25), ('Betty', 25), ('Jack', 30), ('Anna', 30)]\n"
     ]
    }
   ],
   "source": [
    "def person_key(person):\n",
    "    return person[1]\n",
    "\n",
    "people = [(\"Jack\", 30), (\"John\", 25), (\"Betty\", 25), (\"Anna\", 30)]\n",
    "sorted_people = sorted(people, key=person_key)\n",
    "print(sorted_people)"
   ]
  },
  {
   "cell_type": "code",
   "execution_count": 6,
   "metadata": {},
   "outputs": [
    {
     "data": {
      "text/plain": [
       "9"
      ]
     },
     "execution_count": 6,
     "metadata": {},
     "output_type": "execute_result"
    }
   ],
   "source": [
    "lst = [[1], [2]]\n",
    "\n",
    "lst[0].append([9])\n",
    "lst                 # [[1, [9]], [2]]\n",
    "\n",
    "#How would you access the number 9 from this last version of lst?\n",
    "\n",
    "lst[0][1][0]\n"
   ]
  },
  {
   "cell_type": "code",
   "execution_count": 140,
   "metadata": {},
   "outputs": [],
   "source": [
    "moves = {'a':{'1': {'mark': 'x', 'position': 4 },\n",
    "              '2': {'mark': None, 'position': 4 }, \n",
    "              '3': {'mark': 'x', 'position': 4 }},\n",
    "         'b':{'1': {'mark': None, 'position': 8 }, \n",
    "              '2': {'mark': 'x', 'position': 8 }, \n",
    "              '3': {'mark': None, 'position': 8 }},\n",
    "         'c':{'1': {'mark': 'x', 'position': 12 }, \n",
    "              '2': {'mark': None, 'position': 12 }, \n",
    "              '3': {'mark': 'x', 'position': 12 }}}"
   ]
  },
  {
   "cell_type": "code",
   "execution_count": 151,
   "metadata": {},
   "outputs": [
    {
     "data": {
      "text/plain": [
       "['a', 'c']"
      ]
     },
     "execution_count": 151,
     "metadata": {},
     "output_type": "execute_result"
    }
   ],
   "source": [
    "VALID_ROWS = ['1','2','3']\n",
    "\n",
    "marks =  [[[col,row_num]\n",
    "         for row_num, values in row.items() if values['mark'] == 'x']\n",
    "         for col, row in moves.items()\n",
    "        ]\n",
    "\n",
    "mark_counts = {}\n",
    "diag_1_tally = 0\n",
    "diag_2_tally = 0\n",
    "diag_1 = 0\n",
    "diag_2 = len(VALID_ROWS) + 1\n",
    "\n",
    "for column in marks:\n",
    "    diag_1 += 1\n",
    "    diag_2 -= 1\n",
    "    for mark in column:\n",
    "\n",
    "        mark_counts.setdefault(mark[1], 0)\n",
    "        mark_counts[mark[1]] += 1\n",
    "        mark_counts.setdefault(mark[0], 0)\n",
    "        mark_counts[mark[0]] += 1\n",
    "\n",
    "        if int(mark[1]) == diag_1:\n",
    "            diag_1_tally += 1\n",
    "        if int(mark[1]) == diag_2:\n",
    "            diag_2_tally += 1\n",
    "    \n",
    "\n",
    "[key for key in mark_counts if mark_counts[key] == max(mark_counts.values())\n",
    "                            and key.isalpha()]\n"
   ]
  },
  {
   "cell_type": "code",
   "execution_count": 152,
   "metadata": {},
   "outputs": [
    {
     "data": {
      "text/plain": [
       "['1', '2']"
      ]
     },
     "execution_count": 152,
     "metadata": {},
     "output_type": "execute_result"
    }
   ],
   "source": [
    "v = ['1','2','3']\n",
    "\n",
    "v[:-1]"
   ]
  },
  {
   "cell_type": "code",
   "execution_count": 158,
   "metadata": {},
   "outputs": [
    {
     "data": {
      "text/plain": [
       "6"
      ]
     },
     "execution_count": 158,
     "metadata": {},
     "output_type": "execute_result"
    }
   ],
   "source": [
    "string = \"hello there my friend\"\n",
    "\n",
    "string.index()"
   ]
  },
  {
   "cell_type": "code",
   "execution_count": 165,
   "metadata": {},
   "outputs": [
    {
     "name": "stdout",
     "output_type": "stream",
     "text": [
      "hello\n"
     ]
    }
   ],
   "source": [
    "string = 'h2e2l2l2o'\n",
    "\n",
    "string_split = string.split('2') #['h', 'e', 'l', 'l', 'o']\n",
    "\n",
    "string_rejoined = ''.join(string_split) # hello"
   ]
  },
  {
   "cell_type": "code",
   "execution_count": 175,
   "metadata": {},
   "outputs": [
    {
     "name": "stdout",
     "output_type": "stream",
     "text": [
      "This is a lovely day.\n",
      "this is a lovely day.\n",
      "THIS IS A LOVELY DAY.\n",
      "THIS IS A LOVELY day.\n"
     ]
    }
   ],
   "source": [
    "string = \"this is a lovely DAY.\"\n",
    "\n",
    "print(string.capitalize()) #This is a lovely day.\n",
    "print(string.lower()) #this is a lovely day.\n",
    "print(string.upper()) #THIS IS A LOVELY DAY.\n",
    "print(string.swapcase()) #THIS IS A LOVELY day."
   ]
  },
  {
   "cell_type": "code",
   "execution_count": 199,
   "metadata": {},
   "outputs": [
    {
     "name": "stdout",
     "output_type": "stream",
     "text": [
      "2\n",
      "0\n",
      "6\n",
      "4\n"
     ]
    }
   ],
   "source": [
    "list = ['1','2','a','b','sofia','zaidman','1','2']\n",
    "\n",
    "print(list.count('1')) #2\n",
    "print(list.index('1')) #0\n",
    "print(list.index('1',3)) #6\n",
    "print(list.index('sofia', 4)) # ValueError"
   ]
  },
  {
   "cell_type": "code",
   "execution_count": 196,
   "metadata": {},
   "outputs": [
    {
     "name": "stdout",
     "output_type": "stream",
     "text": [
      "['apple', 'kumquat', 'peach', 'raspberry', 'plum']\n",
      "['apple', 'kumquat', 'banana', 'peach', 'raspberry', 'plum']\n",
      "['apple', 'kumquat', 'banana', 'peach', 'raspberry', 'plum', 'kiwi', 'blueberry', 'cranberry']\n",
      "['kiwi', 'blueberry', 'cranberry']\n"
     ]
    }
   ],
   "source": [
    "fruits = ['apple', 'kumquat', 'peach', 'raspberry']\n",
    "fruits_2 = ['kiwi', 'blueberry', 'cranberry']\n",
    "\n",
    "fruits.append('plum')\n",
    "print(fruits) #['apple', 'kumquat', 'peach', 'raspberry', 'plum']\n",
    "\n",
    "fruits.insert(2, 'banana') #['apple', 'kumquat', 'banana', 'peach', 'raspberry', 'plum']\n",
    "print(fruits)\n",
    "\n",
    "fruits.extend(fruits_2)\n",
    "print(fruits) #['apple', 'kumquat', 'banana', 'peach', 'raspberry', 'plum', 'kiwi', 'blueberry', 'cranberry']\n",
    "print(fruits_2) #['kiwi', 'blueberry', 'cranberry']"
   ]
  },
  {
   "cell_type": "code",
   "execution_count": 208,
   "metadata": {},
   "outputs": [
    {
     "name": "stdout",
     "output_type": "stream",
     "text": [
      "['apple', 'peach', 'raspberry', 'kumquat']\n",
      "raspberry\n",
      "['apple', 'peach', 'kumquat']\n",
      "[]\n"
     ]
    }
   ],
   "source": [
    "fruits = ['apple', 'kumquat', 'peach', 'raspberry', 'kumquat']\n",
    "\n",
    "fruits.remove('kumquat') \n",
    "print(fruits) # ['apple', 'peach', 'raspberry', 'kumquat']\n",
    "\n",
    "print(fruits.pop(2)) # raspberry\n",
    "print(fruits) # ['apple', 'peach', 'kumquat']\n",
    "\n",
    "fruits.clear()\n",
    "print(fruits) # []"
   ]
  },
  {
   "cell_type": "code",
   "execution_count": 226,
   "metadata": {},
   "outputs": [
    {
     "name": "stdout",
     "output_type": "stream",
     "text": [
      "['falcon', 'hyrax', 'orangutan', 'snake', 'zebra']\n",
      "['zebra', 'hyrax', 'falcon', 'snake', 'orangutan']\n",
      "['falcon', 'hyrax', 'orangutan', 'snake', 'zebra']\n",
      "['hyrax', 'snake', 'zebra', 'falcon', 'orangutan']\n",
      "['orangutan', 'falcon', 'zebra', 'snake', 'hyrax']\n"
     ]
    }
   ],
   "source": [
    "animals = ['zebra', 'hyrax', 'falcon', 'snake', 'orangutan']\n",
    "\n",
    "print(sorted(animals)) #['falcon', 'hyrax', 'orangutan', 'snake', 'zebra']\n",
    "print(animals) #['zebra', 'hyrax', 'falcon', 'snake', 'orangutan']\n",
    "\n",
    "animals.sort()\n",
    "print(animals) #['falcon', 'hyrax', 'orangutan', 'snake', 'zebra']\n",
    "\n",
    "animals.sort(key = len)\n",
    "print(animals) #['hyrax', 'snake', 'zebra', 'falcon', 'orangutan']\n",
    "\n",
    "animals.reverse()\n",
    "print(animals) #['orangutan', 'falcon', 'zebra', 'snake', 'hyrax']\n",
    "\n"
   ]
  },
  {
   "cell_type": "code",
   "execution_count": 223,
   "metadata": {},
   "outputs": [
    {
     "name": "stdout",
     "output_type": "stream",
     "text": [
      "[['falcon'], ['snake', 'orangutan'], ['zebra', 'hyrax']]\n"
     ]
    }
   ],
   "source": [
    "animals = [['zebra', 'hyrax'], ['falcon'], ['snake', 'orangutan']]\n",
    "\n",
    "animals.sort()\n",
    "print(animals) # [['falcon'], ['snake', 'orangutan'], ['zebra', 'hyrax']]"
   ]
  },
  {
   "cell_type": "code",
   "execution_count": 227,
   "metadata": {},
   "outputs": [
    {
     "name": "stdout",
     "output_type": "stream",
     "text": [
      "{'tip': 'bird', 'charlie': 'cat', 'nala': 'cat', 'daisy': 'dog', 'paul': 'bird'}\n",
      "{'tip': 'bird', 'charlie': 'cat', 'nala': 'cat', 'daisy': 'dog'}\n",
      "{'tip': 'bird', 'charlie': 'cat', 'nala': 'cat', 'daisy': 'dog', 'paul': 'bird'}\n"
     ]
    }
   ],
   "source": [
    "pets = {'tip' : 'bird',\n",
    "        'charlie' : 'cat',\n",
    "        'nala' : 'cat' ,\n",
    "        'daisy' : 'dog'\n",
    "}\n",
    "\n",
    "pets_2 = pets.copy()\n",
    "\n",
    "pets_3 = pets\n",
    "\n",
    "pets['paul'] = 'bird'\n",
    "\n",
    "print(pets) # {'tip': 'bird', 'charlie': 'cat', 'nala': 'cat', 'daisy': 'dog', 'paul': 'bird'}\n",
    "print(pets_2) # {'tip': 'bird', 'charlie': 'cat', 'nala': 'cat', 'daisy': 'dog'}\n",
    "print(pets_3) # {'tip': 'bird', 'charlie': 'cat', 'nala': 'cat', 'daisy': 'dog', 'paul': 'bird'}"
   ]
  },
  {
   "cell_type": "code",
   "execution_count": 232,
   "metadata": {},
   "outputs": [
    {
     "name": "stdout",
     "output_type": "stream",
     "text": [
      "not in dict\n",
      "bird\n",
      "('daisy', 'dog')\n",
      "{'charlie': 'cat', 'nala': 'cat'}\n"
     ]
    }
   ],
   "source": [
    "pets = {'tip' : 'bird',\n",
    "        'charlie' : 'cat',\n",
    "        'nala' : 'cat' ,\n",
    "        'daisy' : 'dog'\n",
    "}\n",
    "\n",
    "print(pets.pop('alphonse', 'not in dict')) # not in dict\n",
    "print(pets.pop('tip')) # bird\n",
    "print(pets.popitem()) # ('daisy', 'dog')\n",
    "print(pets) # {'charlie': 'cat', 'nala': 'cat'}"
   ]
  },
  {
   "cell_type": "code",
   "execution_count": 238,
   "metadata": {},
   "outputs": [
    {
     "name": "stdout",
     "output_type": "stream",
     "text": [
      "{'nala': 'cat', 'daisy': 'yorkshire terrier', 'strawberry': 'frog'}\n"
     ]
    }
   ],
   "source": [
    "pets = {'nala' : 'cat' ,\n",
    "        'daisy' : 'dog'\n",
    "}\n",
    "\n",
    "pets_2 = {'strawberry' : 'frog',\n",
    "          'daisy' : 'yorkshire terrier'\n",
    "}\n",
    "\n",
    "pets.update(pets_2)\n",
    "\n",
    "print(pets) # {'nala': 'cat', 'daisy': 'yorkshire terrier', 'strawberry': 'frog'}"
   ]
  },
  {
   "cell_type": "code",
   "execution_count": 248,
   "metadata": {},
   "outputs": [
    {
     "data": {
      "text/plain": [
       "'dog'"
      ]
     },
     "execution_count": 248,
     "metadata": {},
     "output_type": "execute_result"
    }
   ],
   "source": [
    "pets = {'nala' : 'cat' ,\n",
    "        'daisy' : 'dog'\n",
    "}\n",
    "\n",
    "pets.setdefault('daisy', 'cat') # dog\n"
   ]
  },
  {
   "cell_type": "code",
   "execution_count": 54,
   "metadata": {},
   "outputs": [
    {
     "name": "stdout",
     "output_type": "stream",
     "text": [
      "{'amazon': 114.9, 'meta': 94.8, 'apple': 170.7, 'alphabet': 97.7}\n"
     ]
    }
   ],
   "source": [
    "AMAA_GROSS_PROFIT = [\n",
    "  {'amazon': 114.9},\n",
    "  {'meta': 94.8},\n",
    "  {'apple': 170.7},\n",
    "  {'alphabet': 97.7},\n",
    "]\n",
    "\n",
    "def dictionary_generator(profits_list):\n",
    "    new_dict = {}\n",
    "    for dict in profits_list:\n",
    "        new_dict.update(dict)\n",
    "    return new_dict\n",
    "\n",
    "print(dictionary_generator(AMAA_GROSS_PROFIT))\n",
    "# {'amazon': 114.9, 'meta': 94.8, 'apple': 170.7, 'alphabet': 97.7}"
   ]
  },
  {
   "cell_type": "code",
   "execution_count": 57,
   "metadata": {},
   "outputs": [
    {
     "data": {
      "text/plain": [
       "[{'amazon': 114.9}, {'meta': 94.8}, {'apple': 170.7}, {'alphabet': 97.7}]"
      ]
     },
     "execution_count": 57,
     "metadata": {},
     "output_type": "execute_result"
    }
   ],
   "source": []
  }
 ],
 "metadata": {
  "kernelspec": {
   "display_name": "Python 3",
   "language": "python",
   "name": "python3"
  },
  "language_info": {
   "codemirror_mode": {
    "name": "ipython",
    "version": 3
   },
   "file_extension": ".py",
   "mimetype": "text/x-python",
   "name": "python",
   "nbconvert_exporter": "python",
   "pygments_lexer": "ipython3",
   "version": "3.12.5"
  }
 },
 "nbformat": 4,
 "nbformat_minor": 2
}
