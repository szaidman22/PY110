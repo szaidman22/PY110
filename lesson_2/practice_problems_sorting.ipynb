{
 "cells": [
  {
   "cell_type": "code",
   "execution_count": 2,
   "metadata": {},
   "outputs": [
    {
     "name": "stdout",
     "output_type": "stream",
     "text": [
      "[-16, -6, 7, 8, 9, 10, 11, 50]\n",
      "[50, 11, 10, 9, 8, 7, -6, -16]\n",
      "[10, 9, -6, 11, 7, -16, 50, 8]\n"
     ]
    }
   ],
   "source": [
    "# Sort the following list of numbers first in ascending numeric order, \n",
    "# then in descending numeric order. Do not mutate the list.\n",
    "\n",
    "lst = [10, 9, -6, 11, 7, -16, 50, 8]\n",
    "\n",
    "print(sorted(lst))\n",
    "print(sorted(lst, reverse = True))\n",
    "print(lst)"
   ]
  },
  {
   "cell_type": "code",
   "execution_count": 4,
   "metadata": {},
   "outputs": [
    {
     "name": "stdout",
     "output_type": "stream",
     "text": [
      "[-16, -6, 7, 8, 9, 10, 11, 50]\n",
      "[50, 11, 10, 9, 8, 7, -6, -16]\n",
      "[50, 11, 10, 9, 8, 7, -6, -16]\n"
     ]
    }
   ],
   "source": [
    "#Repeat the previous exercise but, this time, perform the sort by mutating the original list.\n",
    "\n",
    "lst = [10, 9, -6, 11, 7, -16, 50, 8]\n",
    "\n",
    "lst.sort()\n",
    "print(lst)\n",
    "\n",
    "lst.sort(reverse = True)\n",
    "print(lst)\n",
    "\n",
    "print(lst)"
   ]
  },
  {
   "cell_type": "code",
   "execution_count": 8,
   "metadata": {},
   "outputs": [
    {
     "name": "stdout",
     "output_type": "stream",
     "text": [
      "[-16, -6, 10, 11, 50, 7, 8, 9]\n",
      "[9, 8, 7, 50, 11, 10, -6, -16]\n"
     ]
    }
   ],
   "source": [
    "# Repeat problem 2 but, this time, sort the list as string values. \n",
    "# Both the list passed to the sorting function and the returned \n",
    "# list should contain numbers, not strings.\n",
    "\n",
    "lst = [10, 9, -6, 11, 7, -16, 50, 8]\n",
    "\n",
    "def string(number):\n",
    "    return str(number)\n",
    "\n",
    "lst.sort(key = string)\n",
    "print(lst)\n",
    "\n",
    "lst.sort(key = string, reverse = True)\n",
    "print(lst)\n"
   ]
  },
  {
   "cell_type": "code",
   "execution_count": 12,
   "metadata": {},
   "outputs": [
    {
     "name": "stdout",
     "output_type": "stream",
     "text": [
      "[{'title': 'The Book of Kells',\n",
      "  'author': 'Multiple Authors',\n",
      "  'published': '800'},\n",
      " {'title': 'War and Peace', 'author': 'Leo Tolstoy', 'published': '1869'},\n",
      " {'title': 'One Hundred Years of Solitude',\n",
      "  'author': 'Gabriel Garcia Marquez',\n",
      "  'published': '1967'}]\n"
     ]
    }
   ],
   "source": [
    "# How would you sort the following list of dictionaries based \n",
    "# on the year of publication of each book, from the earliest \n",
    "# to the most recent?\n",
    "\n",
    "from pprint import pp\n",
    "\n",
    "books = [\n",
    "    {\n",
    "        'title': 'One Hundred Years of Solitude',\n",
    "        'author': 'Gabriel Garcia Marquez',\n",
    "        'published': '1967',\n",
    "    },\n",
    "    {\n",
    "        'title': 'The Book of Kells',\n",
    "        'author': 'Multiple Authors',\n",
    "        'published': '800',\n",
    "    },\n",
    "    {\n",
    "        'title': 'War and Peace',\n",
    "        'author': 'Leo Tolstoy',\n",
    "        'published': '1869',\n",
    "    },\n",
    "]\n",
    "\n",
    "def sort_by_year(book):\n",
    "    return int(book[\"published\"])\n",
    "\n",
    "\n",
    "books_sorted_year = sorted(books, key = sort_by_year)\n",
    "\n",
    "pp(books_sorted_year)\n",
    "\n"
   ]
  }
 ],
 "metadata": {
  "kernelspec": {
   "display_name": "Python 3",
   "language": "python",
   "name": "python3"
  },
  "language_info": {
   "codemirror_mode": {
    "name": "ipython",
    "version": 3
   },
   "file_extension": ".py",
   "mimetype": "text/x-python",
   "name": "python",
   "nbconvert_exporter": "python",
   "pygments_lexer": "ipython3",
   "version": "3.12.5"
  }
 },
 "nbformat": 4,
 "nbformat_minor": 2
}
